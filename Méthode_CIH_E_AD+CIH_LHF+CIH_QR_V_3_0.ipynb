{
  "nbformat": 4,
  "nbformat_minor": 0,
  "metadata": {
    "colab": {
      "private_outputs": true,
      "provenance": []
    },
    "kernelspec": {
      "name": "python3",
      "display_name": "Python 3"
    },
    "language_info": {
      "name": "python"
    }
  },
  "cells": [
    {
      "cell_type": "markdown",
      "source": [
        "# **METHODE CIH-E-AD**"
      ],
      "metadata": {
        "id": "mb7-2oRAFV8M"
      }
    },
    {
      "cell_type": "markdown",
      "source": [
        "***Ce notebook implémente la méthode de stéganographie sans couverture basée sur la décomposition en valeurs propres, telle que décrite par Fatimah Shamsulddin Abdulsattar.***"
      ],
      "metadata": {
        "id": "ys7p_eWSGGWa"
      }
    },
    {
      "cell_type": "markdown",
      "source": [
        "**Étape 0 : Configuration de l'Environnement**"
      ],
      "metadata": {
        "id": "AWLoR0coGW_6"
      }
    },
    {
      "cell_type": "markdown",
      "source": [],
      "metadata": {
        "id": "diUP8P0qFu_J"
      }
    },
    {
      "cell_type": "markdown",
      "source": [
        "Nous commençons par installer les bibliothèques nécessaires. NumPy et OpenCV sont essentiels pour les manipulations d'images et les calculs matriciels. PyCryptodome est utilisé pour le chiffrement du fichier de localisation."
      ],
      "metadata": {
        "id": "od7OAQnOGZYg"
      }
    },
    {
      "cell_type": "code",
      "source": [
        "# Bloc 1: Installation des dépendances\n",
        "!pip install numpy opencv-python pycryptodome matplotlib\n",
        "print(\"Bibliothèques installées avec succès.\")\n"
      ],
      "metadata": {
        "id": "d5x4OLL4GdhC"
      },
      "execution_count": null,
      "outputs": []
    },
    {
      "cell_type": "markdown",
      "source": [
        "## **Étape 1 : Importations et Téléchargement de l'Image de Test**"
      ],
      "metadata": {
        "id": "lD67_c-LHC95"
      }
    },
    {
      "cell_type": "markdown",
      "source": [
        "Nous importons les modules requis et téléchargeons une image de test. L'image \"Lenna\" est un bon candidat car elle contient à la fois des zones lisses et des zones texturées."
      ],
      "metadata": {
        "id": "w9An2Hb3HIZK"
      }
    },
    {
      "cell_type": "code",
      "source": [
        "# Bloc 2: Importations et téléchargement de l'image\n",
        "import cv2\n",
        "import numpy as np\n",
        "from Crypto.Cipher import AES\n",
        "from Crypto.Random import get_random_bytes\n",
        "import os\n",
        "import matplotlib.pyplot as plt\n",
        "import pickle # Pour sauvegarder/charger le fichier de localisation\n",
        "\n",
        "# Télécharger une image de test\n",
        "!wget https://upload.wikimedia.org/wikipedia/en/7/7d/Lenna_%28test_image%29.png -O lenna.png\n",
        "\n",
        "# Charger l'image en niveaux de gris et la redimensionner pour la cohérence\n",
        "IMG_SIZE = 512\n",
        "img = cv2.imread('lenna.png', cv2.IMREAD_GRAYSCALE )\n",
        "img = cv2.resize(img, (IMG_SIZE, IMG_SIZE))\n",
        "\n",
        "print(f\"Image 'lenna.png' chargée et redimensionnée en {IMG_SIZE}x{IMG_SIZE}.\")\n",
        "plt.imshow(img, cmap='gray')\n",
        "plt.title(\"Image de Test Originale A-ED\")\n",
        "plt.axis('off')\n",
        "plt.show()\n"
      ],
      "metadata": {
        "id": "qLkgLRmIHNk6"
      },
      "execution_count": null,
      "outputs": []
    },
    {
      "cell_type": "markdown",
      "source": [
        "## **Étape 2 : Définition des Fonctions de Base**"
      ],
      "metadata": {
        "id": "wkgS2VE5HbFK"
      }
    },
    {
      "cell_type": "markdown",
      "source": [
        "Nous définissons ici les fonctions utilitaires pour la division en blocs, le chiffrement, et le calcul de la valeur propre maximale."
      ],
      "metadata": {
        "id": "5jUZ8EIpHjIS"
      }
    },
    {
      "cell_type": "code",
      "source": [
        "# Bloc 3: Fonctions utilitaires\n",
        "\n",
        "def get_overlapping_blocks(image, block_size, overlap_ratio):\n",
        "    \"\"\"\n",
        "    Extrait des blocs superposés d'une image.\n",
        "    L'overlap_ratio détermine le pas (stride).\n",
        "    \"\"\"\n",
        "    stride = int(block_size * (1 - overlap_ratio))\n",
        "    if stride == 0:\n",
        "        stride = 1 # Assurer une progression\n",
        "\n",
        "    h, w = image.shape\n",
        "    blocks = []\n",
        "    locations = []\n",
        "    for y in range(0, h - block_size + 1, stride):\n",
        "        for x in range(0, w - block_size + 1, stride):\n",
        "            block = image[y:y+block_size, x:x+block_size]\n",
        "            blocks.append(block)\n",
        "            locations.append((y, x)) # Sauvegarder la coordonnée (y,x) du coin supérieur gauche\n",
        "    return blocks, locations\n",
        "\n",
        "def get_largest_eigenvalue(block):\n",
        "    \"\"\"\n",
        "    Calcule la plus grande valeur propre d'un bloc d'image.\n",
        "    \"\"\"\n",
        "    if block.size == 0:\n",
        "        return 0\n",
        "    # La matrice de covariance est nécessaire pour les valeurs propres\n",
        "    # Pour simplifier, on peut calculer sur le bloc lui-même,\n",
        "    # mais la covariance est plus robuste.\n",
        "    # np.cov attend des données 1D, donc on aplatit le bloc.\n",
        "    cov_matrix = np.cov(block.flatten())\n",
        "    # Pour une seule ligne de données, cov est un scalaire. On gère ce cas.\n",
        "    if np.isscalar(cov_matrix):\n",
        "        return cov_matrix\n",
        "\n",
        "    eigenvalues, _ = np.linalg.eig(np.atleast_2d(cov_matrix))\n",
        "    return np.max(eigenvalues)\n",
        "\n",
        "def encrypt_aes_gcm(data, key):\n",
        "    \"\"\"Chiffre des données avec AES en mode GCM.\"\"\"\n",
        "    cipher = AES.new(key, AES.MODE_GCM)\n",
        "    ciphertext, tag = cipher.encrypt_and_digest(data)\n",
        "    return cipher.nonce, tag, ciphertext\n",
        "\n",
        "def decrypt_aes_gcm(nonce, tag, ciphertext, key):\n",
        "    \"\"\"Déchiffre des données avec AES en mode GCM.\"\"\"\n",
        "    try:\n",
        "        cipher = AES.new(key, AES.MODE_GCM, nonce=nonce)\n",
        "        decrypted_data = cipher.decrypt_and_verify(ciphertext, tag)\n",
        "        return decrypted_data\n",
        "    except (ValueError, KeyError):\n",
        "        return None\n",
        "\n",
        "print(\"Fonctions utilitaires définies.\")\n"
      ],
      "metadata": {
        "id": "poXRh5KsHmdo"
      },
      "execution_count": null,
      "outputs": []
    },
    {
      "cell_type": "markdown",
      "source": [
        "## **Étape 3 : Implémentation du Calcul de Hachage A-ED**\n"
      ],
      "metadata": {
        "id": "xvkd1CHFH-Oi"
      }
    },
    {
      "cell_type": "markdown",
      "source": [
        "C'est le cœur de la méthode. Nous implémentons la logique de subdivision en 9 sous-blocs et la comparaison des valeurs propres pour générer le code de hachage de 8 bits."
      ],
      "metadata": {
        "id": "ePDib5kxIMwZ"
      }
    },
    {
      "cell_type": "code",
      "source": [
        "# Bloc 4: Calcul du code de hachage A-ED\n",
        "\n",
        "def calculate_aed_hash(main_block):\n",
        "    \"\"\"\n",
        "    Calcule le code de hachage de 8 bits pour un bloc principal\n",
        "    en utilisant la méthode A-ED.\n",
        "    \"\"\"\n",
        "    # 1. Diviser le bloc principal en 9 sous-blocs\n",
        "    sub_block_size = main_block.shape[0] // 3\n",
        "    sub_blocks = []\n",
        "    for i in range(3):\n",
        "        for j in range(3):\n",
        "            sub_block = main_block[i*sub_block_size:(i+1)*sub_block_size, j*sub_block_size:(j+1)*sub_block_size]\n",
        "            sub_blocks.append(sub_block)\n",
        "\n",
        "    # 2. Calculer la plus grande valeur propre pour chaque sous-bloc\n",
        "    eigenvalues = [get_largest_eigenvalue(sb) for sb in sub_blocks]\n",
        "\n",
        "    # 3. Générer le code de hachage de 8 bits par comparaison\n",
        "    # L'article original propose 4 arrangements. Nous implémentons l'arrangement 2,\n",
        "    # qui est souvent un bon compromis.\n",
        "    # Le principe est de comparer des paires de voisins.\n",
        "    # H[0] = eig[0] > eig[1]\n",
        "    # H[1] = eig[1] > eig[2]\n",
        "    # H[2] = eig[3] > eig[4]\n",
        "    # ... etc.\n",
        "\n",
        "    hash_bits = []\n",
        "    # Comparaisons horizontales\n",
        "    hash_bits.append('1' if eigenvalues[0] > eigenvalues[1] else '0')\n",
        "    hash_bits.append('1' if eigenvalues[1] > eigenvalues[2] else '0')\n",
        "    hash_bits.append('1' if eigenvalues[3] > eigenvalues[4] else '0')\n",
        "    hash_bits.append('1' if eigenvalues[4] > eigenvalues[5] else '0')\n",
        "    hash_bits.append('1' if eigenvalues[6] > eigenvalues[7] else '0')\n",
        "    hash_bits.append('1' if eigenvalues[7] > eigenvalues[8] else '0')\n",
        "    # Comparaisons verticales\n",
        "    hash_bits.append('1' if eigenvalues[0] > eigenvalues[3] else '0')\n",
        "    hash_bits.append('1' if eigenvalues[3] > eigenvalues[6] else '0')\n",
        "\n",
        "    hash_code = \"\".join(hash_bits)\n",
        "    return hash_code\n",
        "\n",
        "print(\"Fonction de hachage A-ED définie.\")\n"
      ],
      "metadata": {
        "id": "38SffIxGIPf5"
      },
      "execution_count": null,
      "outputs": []
    },
    {
      "cell_type": "markdown",
      "source": [
        "## **Étape 4 : Phase de Dissimulation (Encodeur A-ED)**"
      ],
      "metadata": {
        "id": "xNAZmj9fODWX"
      }
    },
    {
      "cell_type": "markdown",
      "source": [
        "Nous assemblons maintenant toutes les fonctions pour créer le processus complet de dissimulation."
      ],
      "metadata": {
        "id": "wCsLKX-9OKsO"
      }
    },
    {
      "cell_type": "code",
      "source": [
        "# Bloc 5: Encodeur A-ED\n",
        "\n",
        "def hide_message_aed(image, secret_message, block_size, overlap_ratio, aes_key):\n",
        "    \"\"\"Dissimule un message dans une image en utilisant la méthode A-ED.\"\"\"\n",
        "    print(\"1. Extraction des blocs superposés...\")\n",
        "    blocks, locations = get_overlapping_blocks(image, block_size, overlap_ratio)\n",
        "    print(f\"   -> {len(blocks)} blocs extraits.\")\n",
        "\n",
        "    print(\"2. Génération de la table de correspondance (cela peut prendre du temps)...\")\n",
        "    lookup_table = {} # Clé: caractère (ex: 'A'), Valeur: liste d'indices de blocs\n",
        "    for i, block in enumerate(blocks):\n",
        "        # Calculer le hachage et le convertir en caractère ASCII\n",
        "        hash_code_binary = calculate_aed_hash(block)\n",
        "        char_code = int(hash_code_binary, 2)\n",
        "\n",
        "        # S'assurer que le code est un caractère imprimable pour la démonstration\n",
        "        if 32 <= char_code <= 126:\n",
        "            character = chr(char_code)\n",
        "            if character not in lookup_table:\n",
        "                lookup_table[character] = []\n",
        "            lookup_table[character].append(i)\n",
        "\n",
        "    print(\"   -> Table de correspondance générée.\")\n",
        "    print(f\"   -> {len(lookup_table)} caractères uniques trouvés dans l'image.\")\n",
        "\n",
        "    print(\"3. Mise en correspondance du message...\")\n",
        "    location_indices = []\n",
        "    used_indices = set()\n",
        "\n",
        "    for char_to_hide in secret_message:\n",
        "        if char_to_hide not in lookup_table:\n",
        "            print(f\"ERREUR: Le caractère '{char_to_hide}' ne peut pas être représenté par cette image.\")\n",
        "            return None, None\n",
        "\n",
        "        found = False\n",
        "        for block_index in lookup_table[char_to_hide]:\n",
        "            if block_index not in used_indices:\n",
        "                location_indices.append(block_index)\n",
        "                used_indices.add(block_index)\n",
        "                found = True\n",
        "                break\n",
        "\n",
        "        if not found:\n",
        "            print(f\"ERREUR: Capacité insuffisante. Pas assez de blocs uniques pour le caractère '{char_to_hide}'.\")\n",
        "            return None, None\n",
        "\n",
        "    print(\"   -> Message mis en correspondance avec succès.\")\n",
        "\n",
        "    print(\"4. Création et chiffrement du fichier de localisation...\")\n",
        "    # Le fichier de localisation contient les coordonnées (y,x) des blocs utilisés\n",
        "    final_locations = [locations[i] for i in location_indices]\n",
        "\n",
        "    # Sérialiser et chiffrer les données\n",
        "    location_data_bytes = pickle.dumps(final_locations)\n",
        "    encrypted_loc_file = encrypt_aes_gcm(location_data_bytes, aes_key)\n",
        "    print(\"   -> Fichier de localisation chiffré.\")\n",
        "\n",
        "    return image, encrypted_loc_file\n",
        "\n",
        "print(\"Encodeur A-ED défini.\")\n"
      ],
      "metadata": {
        "id": "BI1-5JboOFt9"
      },
      "execution_count": null,
      "outputs": []
    },
    {
      "cell_type": "markdown",
      "source": [
        "## **Étape 5 : Phase d'Extraction (Décodeur A-ED)**"
      ],
      "metadata": {
        "id": "odbPfOC2OQLX"
      }
    },
    {
      "cell_type": "markdown",
      "source": [
        "Nous implémentons le processus inverse pour extraire le message."
      ],
      "metadata": {
        "id": "g4W5hEMAOVPW"
      }
    },
    {
      "cell_type": "code",
      "source": [
        "# Bloc 6: Décodeur A-ED\n",
        "\n",
        "def extract_message_aed(image, encrypted_loc_file, block_size, aes_key):\n",
        "    \"\"\"Extrait un message d'une image en utilisant la méthode A-ED.\"\"\"\n",
        "    print(\"1. Déchiffrement du fichier de localisation...\")\n",
        "    nonce, tag, ciphertext = encrypted_loc_file\n",
        "    decrypted_loc_bytes = decrypt_aes_gcm(nonce, tag, ciphertext, aes_key)\n",
        "\n",
        "    if decrypted_loc_bytes is None:\n",
        "        return \"ERREUR: Échec du déchiffrement.\"\n",
        "\n",
        "    # Désérialiser pour obtenir la liste des coordonnées\n",
        "    locations = pickle.loads(decrypted_loc_bytes)\n",
        "    print(f\"   -> {len(locations)} localisations de blocs récupérées.\")\n",
        "\n",
        "    print(\"2. Régénération des hachages et reconstruction du message...\")\n",
        "    extracted_message = []\n",
        "    for y, x in locations:\n",
        "        # Extraire le bloc correspondant de l'image reçue\n",
        "        block = image[y:y+block_size, x:x+block_size]\n",
        "\n",
        "        # Recalculer son hachage\n",
        "        hash_code_binary = calculate_aed_hash(block)\n",
        "        char_code = int(hash_code_binary, 2)\n",
        "\n",
        "        if 32 <= char_code <= 126:\n",
        "            extracted_message.append(chr(char_code))\n",
        "        else:\n",
        "            extracted_message.append('?') # Caractère de remplacement si non-imprimable\n",
        "\n",
        "    print(\"   -> Message reconstruit.\")\n",
        "    return \"\".join(extracted_message)\n",
        "\n",
        "print(\"Décodeur A-ED défini.\")\n"
      ],
      "metadata": {
        "id": "li_b_02ZOXZd"
      },
      "execution_count": null,
      "outputs": []
    },
    {
      "cell_type": "markdown",
      "source": [
        "## **Étape 6 : Exécution du Cycle Complet**"
      ],
      "metadata": {
        "id": "ycXOA1ZZOeSm"
      }
    },
    {
      "cell_type": "markdown",
      "source": [
        "Mettons maintenant la méthode à l'épreuve en exécutant un cycle complet de dissimulation et d'extraction."
      ],
      "metadata": {
        "id": "_Th3d1QbOhs2"
      }
    },
    {
      "cell_type": "code",
      "source": [
        "# Bloc 7: Exécution du cycle complet A-ED\n",
        "\n",
        "# --- Paramètres ---\n",
        "BLOCK_SIZE = 24          # Doit être un multiple de 3\n",
        "OVERLAP_RATIO = 2/3      # Chevauchement de 2/3 comme dans l'article\n",
        "SECRET_MESSAGE = \"Test AED\" # Message court, car la capacité peut être limitée\n",
        "AES_KEY = get_random_bytes(16) # Clé AES 128-bit\n",
        "\n",
        "# --- PHASE DE DISSIMULATION ---\n",
        "print(\"--- DÉBUT DE LA PHASE DE DISSIMULATION A-ED ---\")\n",
        "stego_image_aed, encrypted_data_aed = hide_message_aed(\n",
        "    img, SECRET_MESSAGE, BLOCK_SIZE, OVERLAP_RATIO, AES_KEY\n",
        ")\n",
        "\n",
        "# --- PHASE D'EXTRACTION ---\n",
        "if stego_image_aed is not None:\n",
        "    print(\"\\n--- DÉBUT DE LA PHASE D'EXTRACTION A-ED ---\")\n",
        "\n",
        "    # Test 1: Extraction depuis l'image non altérée\n",
        "    extracted_message_aed = extract_message_aed(\n",
        "        stego_image_aed, encrypted_data_aed, BLOCK_SIZE, AES_KEY\n",
        "    )\n",
        "\n",
        "    print(\"\\n--- RÉSULTATS ---\")\n",
        "    print(f\"Message Original : '{SECRET_MESSAGE}'\")\n",
        "    print(f\"Message Extrait  : '{extracted_message_aed}'\")\n",
        "\n",
        "    if SECRET_MESSAGE == extracted_message_aed:\n",
        "        print(\"\\nSUCCÈS : Le message a été extrait correctement de l'image non altérée !\")\n",
        "    else:\n",
        "        print(\"\\nÉCHEC : Le message extrait ne correspond pas.\")\n",
        "\n",
        "    # Test 2: Extraction depuis une image attaquée (Bruit Gaussien)\n",
        "    print(\"\\n--- TEST DE ROBUSTESSE (BRUIT GAUSSIEN) ---\")\n",
        "    # Créer une copie de l'image pour l'attaque\n",
        "    attacked_image = stego_image_aed.copy()\n",
        "    # Ajouter un bruit gaussien\n",
        "    noise = np.random.normal(0, 5, attacked_image.shape).astype(np.uint8)\n",
        "    attacked_image = cv2.add(attacked_image, noise)\n",
        "\n",
        "    plt.imshow(attacked_image, cmap='gray')\n",
        "    plt.title(\"Image après Attaque par Bruit Gaussien (sigma=5)\")\n",
        "    plt.axis('off')\n",
        "    plt.show()\n",
        "\n",
        "    # Tenter d'extraire le message de l'image attaquée\n",
        "    extracted_message_attacked = extract_message_aed(\n",
        "        attacked_image, encrypted_data_aed, BLOCK_SIZE, AES_KEY\n",
        "    )\n",
        "    print(f\"\\nMessage Extrait après Attaque : '{extracted_message_attacked}'\")\n",
        "\n",
        "    # Calcul du BER\n",
        "    original_bits = ''.join(f'{ord(c):08b}' for c in SECRET_MESSAGE)\n",
        "    extracted_bits = ''.join(f'{ord(c):08b}' for c in extracted_message_attacked)\n",
        "    errors = sum(1 for i in range(len(original_bits)) if original_bits[i] != extracted_bits[i])\n",
        "    ber = (errors / len(original_bits)) * 100\n",
        "    print(f\"Taux d'Erreur Binaire (BER) après attaque : {ber:.2f}%\")\n",
        "\n"
      ],
      "metadata": {
        "id": "ZpZkaZ4vOkOu"
      },
      "execution_count": null,
      "outputs": []
    },
    {
      "cell_type": "markdown",
      "source": [
        "## **🛡️ TEST COMPLET DE LA METHODE E-AD**"
      ],
      "metadata": {
        "id": "1s4dQzzkT1f8"
      }
    },
    {
      "cell_type": "markdown",
      "source": [
        "## **Étape 0 : Configuration et Implémentation de la Méthode A-ED**"
      ],
      "metadata": {
        "id": "ZzuHeTYnUAvc"
      }
    },
    {
      "cell_type": "markdown",
      "source": [
        "Nous allons d'abord réutiliser le code d'implémentation de la méthode A-ED que nous avons développé précédemment."
      ],
      "metadata": {
        "id": "WSX85Y-MUHP0"
      }
    },
    {
      "cell_type": "code",
      "source": [
        "# Bloc 1: Installation, importations et téléchargement de l'image\n",
        "!pip install pycryptodome opencv-python numpy matplotlib scikit-image\n",
        "import cv2\n",
        "import numpy as np\n",
        "from Crypto.Cipher import AES\n",
        "from Crypto.Random import get_random_bytes\n",
        "import os\n",
        "import matplotlib.pyplot as plt\n",
        "import pickle\n",
        "import time\n",
        "from skimage.transform import rotate, rescale\n",
        "from skimage.util import random_noise\n",
        "from skimage.exposure import adjust_gamma, equalize_hist\n",
        "import json\n",
        "from datetime import datetime\n",
        "\n",
        "# Télécharger et préparer l'image\n",
        "!wget https://upload.wikimedia.org/wikipedia/en/7/7d/Lenna_%28test_image%29.png -O lenna.png\n",
        "IMG_SIZE = 512\n",
        "BASE_IMAGE = cv2.imread('lenna.png', cv2.IMREAD_GRAYSCALE )\n",
        "BASE_IMAGE = cv2.resize(BASE_IMAGE, (IMG_SIZE, IMG_SIZE))\n",
        "\n",
        "print(\"Environnement prêt.\")\n",
        "\n",
        "# Bloc 2: Code complet de la méthode A-ED (regroupé pour la clarté)\n",
        "\n",
        "# --- Fonctions Utilitaires ---\n",
        "def get_overlapping_blocks(image, block_size, overlap_ratio):\n",
        "    stride = int(block_size * (1 - overlap_ratio))\n",
        "    if stride == 0: stride = 1\n",
        "    h, w = image.shape\n",
        "    blocks, locations = [], []\n",
        "    for y in range(0, h - block_size + 1, stride):\n",
        "        for x in range(0, w - block_size + 1, stride):\n",
        "            blocks.append(image[y:y+block_size, x:x+block_size])\n",
        "            locations.append((y, x))\n",
        "    return blocks, locations\n",
        "\n",
        "def get_largest_eigenvalue(block):\n",
        "    if block.size < 2: return 0\n",
        "    cov_matrix = np.cov(block.flatten())\n",
        "    if np.isscalar(cov_matrix): return cov_matrix\n",
        "    eigenvalues, _ = np.linalg.eig(np.atleast_2d(cov_matrix))\n",
        "    return np.max(eigenvalues.real) # Utiliser .real pour éviter les nombres complexes dus aux imprécisions\n",
        "\n",
        "def encrypt_aes_gcm(data, key):\n",
        "    cipher = AES.new(key, AES.MODE_GCM)\n",
        "    ciphertext, tag = cipher.encrypt_and_digest(data)\n",
        "    return cipher.nonce, tag, ciphertext\n",
        "\n",
        "def decrypt_aes_gcm(nonce, tag, ciphertext, key):\n",
        "    try:\n",
        "        cipher = AES.new(key, AES.MODE_GCM, nonce=nonce)\n",
        "        return cipher.decrypt_and_verify(ciphertext, tag)\n",
        "    except (ValueError, KeyError):\n",
        "        return None\n",
        "\n",
        "# --- Cœur de la méthode A-ED ---\n",
        "def calculate_aed_hash(main_block):\n",
        "    sub_block_size = main_block.shape[0] // 3\n",
        "    sub_blocks = []\n",
        "    for i in range(3):\n",
        "        for j in range(3):\n",
        "            sub_blocks.append(main_block[i*sub_block_size:(i+1)*sub_block_size, j*sub_block_size:(j+1)*sub_block_size])\n",
        "    eigenvalues = [get_largest_eigenvalue(sb) for sb in sub_blocks]\n",
        "    hash_bits = [\n",
        "        '1' if eigenvalues[0] > eigenvalues[1] else '0', '1' if eigenvalues[1] > eigenvalues[2] else '0',\n",
        "        '1' if eigenvalues[3] > eigenvalues[4] else '0', '1' if eigenvalues[4] > eigenvalues[5] else '0',\n",
        "        '1' if eigenvalues[6] > eigenvalues[7] else '0', '1' if eigenvalues[7] > eigenvalues[8] else '0',\n",
        "        '1' if eigenvalues[0] > eigenvalues[3] else '0', '1' if eigenvalues[3] > eigenvalues[6] else '0'\n",
        "    ]\n",
        "    return \"\".join(hash_bits)\n",
        "\n",
        "# --- Fonctions Encodeur/Décodeur ---\n",
        "def hide_message_aed(image, secret_message, block_size, overlap_ratio, aes_key):\n",
        "    blocks, locations = get_overlapping_blocks(image, block_size, overlap_ratio)\n",
        "    lookup_table = {}\n",
        "    for i, block in enumerate(blocks):\n",
        "        hash_code_binary = calculate_aed_hash(block)\n",
        "        char_code = int(hash_code_binary, 2)\n",
        "        if 32 <= char_code <= 126:\n",
        "            character = chr(char_code)\n",
        "            if character not in lookup_table: lookup_table[character] = []\n",
        "            lookup_table[character].append(i)\n",
        "    location_indices, used_indices = [], set()\n",
        "    for char_to_hide in secret_message:\n",
        "        if char_to_hide not in lookup_table: return None, None, \"Char not found\"\n",
        "        found = False\n",
        "        for block_index in lookup_table[char_to_hide]:\n",
        "            if block_index not in used_indices:\n",
        "                location_indices.append(block_index)\n",
        "                used_indices.add(block_index)\n",
        "                found = True\n",
        "                break\n",
        "        if not found: return None, None, \"Capacity issue\"\n",
        "    final_locations = [locations[i] for i in location_indices]\n",
        "    location_data_bytes = pickle.dumps(final_locations)\n",
        "    encrypted_loc_file = encrypt_aes_gcm(location_data_bytes, aes_key)\n",
        "    return image, encrypted_loc_file, \"Success\"\n",
        "\n",
        "def extract_message_aed(image, encrypted_loc_file, block_size, aes_key):\n",
        "    nonce, tag, ciphertext = encrypted_loc_file\n",
        "    decrypted_loc_bytes = decrypt_aes_gcm(nonce, tag, ciphertext, aes_key)\n",
        "    if decrypted_loc_bytes is None: return None\n",
        "    locations = pickle.loads(decrypted_loc_bytes)\n",
        "    extracted_message = []\n",
        "    for y, x in locations:\n",
        "        if y + block_size > image.shape[0] or x + block_size > image.shape[1]:\n",
        "            extracted_message.append('?') # Le bloc est hors des limites (après rotation/scaling)\n",
        "            continue\n",
        "        block = image[y:y+block_size, x:x+block_size]\n",
        "        hash_code_binary = calculate_aed_hash(block)\n",
        "        char_code = int(hash_code_binary, 2)\n",
        "        if 32 <= char_code <= 126:\n",
        "            extracted_message.append(chr(char_code))\n",
        "        else:\n",
        "            extracted_message.append('?')\n",
        "    return \"\".join(extracted_message)\n",
        "\n",
        "print(\"Implémentation de la méthode A-ED prête.\")\n"
      ],
      "metadata": {
        "id": "FtyMl-SMUTPl"
      },
      "execution_count": null,
      "outputs": []
    },
    {
      "cell_type": "markdown",
      "source": [
        "**Étape 1 : Définition de la Suite de Tests**"
      ],
      "metadata": {
        "id": "QmjxygsLUfvF"
      }
    },
    {
      "cell_type": "markdown",
      "source": [
        "Nous allons maintenant créer les fonctions qui exécuteront chaque test et rapporteront les résultats."
      ],
      "metadata": {
        "id": "hzGFQcZmUmUW"
      }
    },
    {
      "cell_type": "code",
      "source": [
        "# Bloc 3: Fonctions de la suite de tests\n",
        "\n",
        "# --- Paramètres globaux pour les tests ---\n",
        "BLOCK_SIZE = 24\n",
        "OVERLAP_RATIO = 2/3\n",
        "AES_KEY = get_random_bytes(16)\n",
        "results = {}\n",
        "\n",
        "def calculate_ber(original_msg, extracted_msg):\n",
        "    \"\"\"Calcule le Bit Error Rate (BER).\"\"\"\n",
        "    if not extracted_msg: return 100.0\n",
        "    original_bits = ''.join(f'{ord(c):08b}' for c in original_msg)\n",
        "    extracted_bits = ''.join(f'{ord(c):08b}' for c in extracted_msg)\n",
        "\n",
        "    errors = 0\n",
        "    min_len = min(len(original_bits), len(extracted_bits))\n",
        "    errors += sum(1 for i in range(min_len) if original_bits[i] != extracted_bits[i])\n",
        "    errors += abs(len(original_bits) - len(extracted_bits)) # Gère les messages tronqués\n",
        "\n",
        "    return (errors / len(original_bits)) * 100 if len(original_bits) > 0 else 0\n",
        "\n",
        "\n",
        "# Dans le Bloc 3 (Fonctions de la suite de tests)\n",
        "\n",
        "def run_single_test(message, attacked_image):\n",
        "    \"\"\"Exécute un cycle de dissimulation/extraction sur une image (potentiellement attaquée).\"\"\"\n",
        "    # La dissimulation se fait toujours sur l'image de base\n",
        "\n",
        "    # L'appel de fonction est corrigé ici (aed au lieu de aéd)\n",
        "    _, encrypted_data, status = hide_message_aed(BASE_IMAGE, message, BLOCK_SIZE, OVERLAP_RATIO, AES_KEY)\n",
        "\n",
        "    if status != \"Success\":\n",
        "        # Gérer le cas où la dissimulation échoue (capacité insuffisante, etc.)\n",
        "        # On peut considérer cela comme une erreur de 100%\n",
        "        return 100.0\n",
        "\n",
        "    # L'extraction se fait sur l'image attaquée\n",
        "    extracted_msg = extract_message_aed(attacked_image, encrypted_data, BLOCK_SIZE, AES_KEY)\n",
        "\n",
        "    return calculate_ber(message, extracted_msg)\n",
        "\n",
        "\n",
        "\n",
        "\n",
        "# --- Définitions des tests ---\n",
        "\n",
        "def test_functional():\n",
        "    print(\"\\n1. TEST FONCTIONNEL DE BASE\")\n",
        "    messages = [\"A\", \"Test AED\", \"Message de test un peu plus long pour la methode\", \"Message beaucoup plus long pour verifier la capacite de base et la robustesse fonctionnelle de l'implementation complete.\"]\n",
        "    success_count = 0\n",
        "    results['functional'] = []\n",
        "    for i, msg in enumerate(messages):\n",
        "        ber = run_single_test(msg, BASE_IMAGE.copy())\n",
        "        status = \"SUCCÈS\" if ber == 0.0 else \"ÉCHEC\"\n",
        "        if status == \"SUCCÈS\": success_count += 1\n",
        "        print(f\"  Message {i+1}: {len(msg)} chars -> {status}\")\n",
        "        results['functional'].append({'message_length': len(msg), 'status': status})\n",
        "    print(f\"  Taux de réussite: {success_count / len(messages) * 100:.1f}%\")\n",
        "\n",
        "def test_jpeg_robustness():\n",
        "    print(\"\\n2. TEST ROBUSTESSE JPEG\")\n",
        "    message = \"Test JPEG\"\n",
        "    results['jpeg'] = []\n",
        "    for quality in [95, 80, 70, 50, 30]:\n",
        "        _, buffer = cv2.imencode('.jpg', BASE_IMAGE, [int(cv2.IMWRITE_JPEG_QUALITY), quality])\n",
        "        attacked_image = cv2.imdecode(buffer, cv2.IMREAD_GRAYSCALE)\n",
        "        ber = run_single_test(message, attacked_image)\n",
        "        print(f\"  Qualité {quality}: BER={ber:.2f}%\")\n",
        "        results['jpeg'].append({'quality': quality, 'ber': ber})\n",
        "\n",
        "def test_noise_robustness():\n",
        "    print(\"\\n3. TESTS DE BRUIT\")\n",
        "    message = \"Test Bruit\"\n",
        "    results['noise'] = []\n",
        "    # Bruit Gaussien\n",
        "    for sigma in [0.005, 0.01, 0.02, 0.05]:\n",
        "        attacked_image = (random_noise(BASE_IMAGE, mode='gaussian', var=sigma) * 255).astype(np.uint8)\n",
        "        ber = run_single_test(message, attacked_image)\n",
        "        print(f\"  Bruit Gaussien σ²={sigma}: BER={ber:.2f}%\")\n",
        "        results['noise'].append({'type': 'gaussian', 'sigma_sq': sigma, 'ber': ber})\n",
        "    # Bruit Sel & Poivre\n",
        "    for amount in [0.01, 0.03, 0.05, 0.1]:\n",
        "        attacked_image = (random_noise(BASE_IMAGE, mode='s&p', amount=amount) * 255).astype(np.uint8)\n",
        "        ber = run_single_test(message, attacked_image)\n",
        "        print(f\"  Sel & Poivre {amount*100:.0f}%: BER={ber:.2f}%\")\n",
        "        results['noise'].append({'type': 's&p', 'amount': amount, 'ber': ber})\n",
        "\n",
        "def test_filtering_robustness():\n",
        "    print(\"\\n4. TESTS DE FILTRAGE\")\n",
        "    message = \"Test Filtre\"\n",
        "    results['filtering'] = []\n",
        "    # Flou Gaussien\n",
        "    for k in [3, 5, 7, 9]:\n",
        "        attacked_image = cv2.GaussianBlur(BASE_IMAGE, (k, k), 0)\n",
        "        ber = run_single_test(message, attacked_image)\n",
        "        print(f\"  Flou Gaussien {k}x{k}: BER={ber:.2f}%\")\n",
        "        results['filtering'].append({'type': 'gaussian_blur', 'kernel': k, 'ber': ber})\n",
        "    # Flou Médian\n",
        "    for k in [3, 5, 7]:\n",
        "        attacked_image = cv2.medianBlur(BASE_IMAGE, k)\n",
        "        ber = run_single_test(message, attacked_image)\n",
        "        print(f\"  Flou Médian {k}x{k}: BER={ber:.2f}%\")\n",
        "        results['filtering'].append({'type': 'median_blur', 'kernel': k, 'ber': ber})\n",
        "\n",
        "def test_geometric_robustness():\n",
        "    print(\"\\n5. TESTS GÉOMÉTRIQUES\")\n",
        "    message = \"Test Geo\"\n",
        "    results['geometric'] = []\n",
        "    # Rotation\n",
        "    for angle in [0.5, 1, 2, 5]:\n",
        "        attacked_image = (rotate(BASE_IMAGE, angle, resize=False, preserve_range=True)).astype(np.uint8)\n",
        "        ber = run_single_test(message, attacked_image)\n",
        "        print(f\"  Rotation {angle}°: BER={ber:.2f}%\")\n",
        "        results['geometric'].append({'type': 'rotation', 'angle': angle, 'ber': ber})\n",
        "    # Scaling\n",
        "    for scale in [0.9, 1.1, 0.8, 1.2]:\n",
        "        h, w = BASE_IMAGE.shape\n",
        "        attacked_image = rescale(BASE_IMAGE, scale, preserve_range=True).astype(np.uint8)\n",
        "        # Recadrer ou padd pour revenir à la taille originale\n",
        "        nh, nw = attacked_image.shape\n",
        "        if scale < 1.0: # Padding\n",
        "            pad_h, pad_w = (h - nh) // 2, (w - nw) // 2\n",
        "            attacked_image = np.pad(attacked_image, ((pad_h, h-nh-pad_h), (pad_w, w-nw-pad_w)), 'constant')\n",
        "        else: # Recadrage\n",
        "            crop_h, crop_w = (nh - h) // 2, (nw - w) // 2\n",
        "            attacked_image = attacked_image[crop_h:crop_h+h, crop_w:crop_w+w]\n",
        "        ber = run_single_test(message, attacked_image)\n",
        "        print(f\"  Scaling {scale}: BER={ber:.2f}%\")\n",
        "        results['geometric'].append({'type': 'scaling', 'scale': scale, 'ber': ber})\n",
        "\n",
        "def test_contrast_luminance():\n",
        "    print(\"\\n6. TESTS CONTRASTE/LUMINOSITÉ\")\n",
        "    message = \"Test Contraste\"\n",
        "    results['contrast'] = []\n",
        "    # Correction Gamma\n",
        "    for gamma in [0.7, 0.8, 1.2, 1.5]:\n",
        "        attacked_image = (adjust_gamma(BASE_IMAGE, gamma) * 255).astype(np.uint8)\n",
        "        ber = run_single_test(message, attacked_image)\n",
        "        print(f\"  Gamma {gamma}: BER={ber:.2f}%\")\n",
        "        results['contrast'].append({'type': 'gamma', 'value': gamma, 'ber': ber})\n",
        "    # Luminosité\n",
        "    for val in [-30, -15, 15, 30]:\n",
        "        attacked_image = cv2.add(BASE_IMAGE, val)\n",
        "        ber = run_single_test(message, attacked_image)\n",
        "        print(f\"  Luminosité {val}: BER={ber:.2f}%\")\n",
        "        results['contrast'].append({'type': 'brightness', 'value': val, 'ber': ber})\n",
        "    # Égalisation d'histogramme\n",
        "    attacked_image = equalize_hist(BASE_IMAGE)\n",
        "    ber = run_single_test(message, attacked_image)\n",
        "    print(f\"  Égalisation histogramme: BER={ber:.2f}%\")\n",
        "    results['contrast'].append({'type': 'hist_equalization', 'ber': ber})\n",
        "\n",
        "def test_capacity():\n",
        "    print(\"\\n7. TEST DE CAPACITÉ\")\n",
        "    results['capacity'] = {}\n",
        "    blocks, _ = get_overlapping_blocks(BASE_IMAGE, BLOCK_SIZE, OVERLAP_RATIO)\n",
        "    total_blocks = len(blocks)\n",
        "    print(f\"  Blocs totaux ({BLOCK_SIZE}x{BLOCK_SIZE}, overlap={OVERLAP_RATIO:.2f}): {total_blocks}\")\n",
        "    results['capacity']['total_blocks'] = total_blocks\n",
        "\n",
        "    # La capacité théorique est le nombre de blocs, car chaque bloc représente 1 char (8 bits)\n",
        "    capacity_bits = total_blocks * 8\n",
        "    capacity_bytes = total_blocks\n",
        "    print(f\"  Capacité théorique: {capacity_bits} bits ({capacity_bytes} bytes)\")\n",
        "    results['capacity']['theoretical_bits'] = capacity_bits\n",
        "\n",
        "    print(\"  Distribution des hachages (caractères représentables):\")\n",
        "    lookup_table = {}\n",
        "    for i, block in enumerate(blocks):\n",
        "        hash_code_binary = calculate_aed_hash(block)\n",
        "        char_code = int(hash_code_binary, 2)\n",
        "        if 32 <= char_code <= 126:\n",
        "            character = chr(char_code)\n",
        "            if character not in lookup_table: lookup_table[character] = 0\n",
        "            lookup_table[character] += 1\n",
        "    results['capacity']['hash_distribution'] = lookup_table\n",
        "    for char, count in sorted(lookup_table.items()):\n",
        "        print(f\"    '{char}' (code {ord(char)}): {count} blocs\")\n",
        "\n",
        "def test_performance():\n",
        "    print(\"\\n8. TESTS DE PERFORMANCE\")\n",
        "    message = \"Test de performance avec un message de taille raisonnable pour la methode A-ED.\"\n",
        "    results['performance'] = {}\n",
        "\n",
        "    # Temps de dissimulation\n",
        "    start_time = time.time()\n",
        "    stego_img, encrypted_data, status = hide_message_aed(BASE_IMAGE, message, BLOCK_SIZE, OVERLAP_RATIO, AES_KEY)\n",
        "    end_time = time.time()\n",
        "    dissimulation_time = (end_time - start_time) * 1000 # en ms\n",
        "    print(f\"  Temps dissimulation: {dissimulation_time:.2f} ms\")\n",
        "    results['performance']['dissimulation_ms'] = dissimulation_time\n",
        "\n",
        "    # Temps d'extraction\n",
        "    if status == \"Success\":\n",
        "        start_time = time.time()\n",
        "        _ = extract_message_aed(stego_img, encrypted_data, BLOCK_SIZE, AES_KEY)\n",
        "        end_time = time.time()\n",
        "        extraction_time = (end_time - start_time) * 1000 # en ms\n",
        "        print(f\"  Temps extraction: {extraction_time:.2f} ms\")\n",
        "        results['performance']['extraction_ms'] = extraction_time\n",
        "        debit = len(message) / (dissimulation_time / 1000)\n",
        "        print(f\"  Débit (dissimulation): {debit:.2f} chars/sec\")\n",
        "        results['performance']['throughput_chars_sec'] = debit\n",
        "    else:\n",
        "        print(f\"  Échec de la dissimulation pour le test de performance: {status}\")\n",
        "        results['performance']['extraction_ms'] = None\n",
        "        results['performance']['throughput_chars_sec'] = None\n",
        "\n",
        "\n",
        "def test_security():\n",
        "    print(\"\\n9. TESTS DE SÉCURITÉ\")\n",
        "    message = \"Test Securite\"\n",
        "    results['security'] = []\n",
        "\n",
        "    # Bonne clé\n",
        "    stego_img, encrypted_data, status = hide_message_aed(BASE_IMAGE, message, BLOCK_SIZE, OVERLAP_RATIO, AES_KEY)\n",
        "    if status == \"Success\":\n",
        "        extracted_msg = extract_message_aed(stego_img, encrypted_data, BLOCK_SIZE, AES_KEY)\n",
        "        status_good_key = \"SUCCÈS\" if message == extracted_msg else \"ÉCHEC\"\n",
        "        print(f\"  Bonne clé: {status_good_key}\")\n",
        "        results['security'].append({'key': 'correct', 'status': status_good_key})\n",
        "\n",
        "        # Mauvaise clé\n",
        "        wrong_key = get_random_bytes(16)\n",
        "        extracted_msg_wrong = extract_message_aed(stego_img, encrypted_data, BLOCK_SIZE, wrong_key)\n",
        "        status_wrong_key = \"ÉCHEC\" if extracted_msg_wrong is None else \"SUCCÈS (inattendu)\"\n",
        "        print(f\"  Mauvaise clé: {status_wrong_key}\")\n",
        "        results['security'].append({'key': 'wrong', 'status': status_wrong_key})\n",
        "    else:\n",
        "        print(f\"  Échec de la dissimulation pour le test de sécurité: {status}\")\n",
        "        results['security'].append({'key': 'correct', 'status': \"ÉCHEC (dissimulation failed)\"})\n",
        "        results['security'].append({'key': 'wrong', 'status': \"Skipped (dissimulation failed)\"})\n",
        "\n",
        "\n",
        "print(\"Suite de tests pour A-ED définie.\")"
      ],
      "metadata": {
        "id": "QPIXQQ5pUhmL"
      },
      "execution_count": null,
      "outputs": []
    },
    {
      "cell_type": "markdown",
      "source": [
        "**Étape 2 : Exécution de la Suite de Tests Complète**"
      ],
      "metadata": {
        "id": "5D8W4njWUt0r"
      }
    },
    {
      "cell_type": "markdown",
      "source": [
        "Cette dernière cellule exécute tous les tests définis ci-dessus et affiche un résumé final, tout en sauvegardant les résultats dans un fichier JSON pour une analyse ultérieure."
      ],
      "metadata": {
        "id": "L7D60RLBUwT7"
      }
    },
    {
      "cell_type": "code",
      "source": [
        "# Bloc 4: Exécution de tous les tests et sauvegarde des résultats\n",
        "\n",
        "print(\"============================================================\")\n",
        "print(\"       LANCEMENT DE LA SUITE DE TESTS POUR A-ED\")\n",
        "print(\"============================================================\")\n",
        "\n",
        "test_functional()\n",
        "test_jpeg_robustness()\n",
        "test_noise_robustness()\n",
        "test_filtering_robustness()\n",
        "test_geometric_robustness()\n",
        "test_contrast_luminance()\n",
        "test_capacity()\n",
        "test_performance()\n",
        "test_security()\n",
        "\n",
        "# --- Sauvegarde des résultats ---\n",
        "timestamp = datetime.now().strftime(\"%Y%m%d_%H%M%S\")\n",
        "filename = f\"aed_test_results_{timestamp}.json\"\n",
        "with open(filename, 'w') as f:\n",
        "    json.dump(results, f, indent=2)\n",
        "\n",
        "print(\"\\n============================================================\")\n",
        "print(\"                   RÉSUMÉ DES RÉSULTATS\")\n",
        "print(\"============================================================\")\n",
        "functional_success_rate = sum(1 for r in results['functional'] if r['status'] == 'SUCCÈS') / len(results['functional']) * 100\n",
        "print(f\"Taux de réussite fonctionnel: {functional_success_rate:.1f}%\")\n",
        "print(f\"Résultats sauvegardés dans: {filename}\")\n"
      ],
      "metadata": {
        "id": "YI07cjZ2UyeW"
      },
      "execution_count": null,
      "outputs": []
    },
    {
      "cell_type": "markdown",
      "source": [
        "# **METHODE CIHLHF**"
      ],
      "metadata": {
        "id": "Bwe2OsohXUC9"
      }
    },
    {
      "cell_type": "markdown",
      "source": [
        "***Ce notebook implémente la méthode de stéganographie sans couverture basée sur les valeurs de pixels les plus basses et les plus hautes d'un fragment, telle que décrite par Anggriani et al.***"
      ],
      "metadata": {
        "id": "Bbpk5Y2RXWCr"
      }
    },
    {
      "cell_type": "markdown",
      "source": [
        "**Étape 0 : Configuration de l'Environnement**"
      ],
      "metadata": {
        "id": "2It7nrrSXa1b"
      }
    },
    {
      "cell_type": "markdown",
      "source": [
        "Nous commençons par installer les bibliothèques nécessaires. NumPy et OpenCV sont essentiels pour les manipulations d'images. PyCryptodome n'est pas strictement nécessaire pour la méthode de base (qui utilise une simple permutation comme clé), mais nous l'inclurons pour montrer comment sécuriser la clé de mappage si nécessaire."
      ],
      "metadata": {
        "id": "MwYULg0GXxw0"
      }
    },
    {
      "cell_type": "code",
      "source": [
        "# Bloc 1: Installation des dépendances\n",
        "!pip install numpy opencv-python pycryptodome matplotlib\n",
        "print(\"Bibliothèques installées avec succès.\")\n"
      ],
      "metadata": {
        "id": "RYAMRajLX1uM"
      },
      "execution_count": null,
      "outputs": []
    },
    {
      "cell_type": "markdown",
      "source": [
        "**Étape 1 : Importations et Téléchargement de l'Image de Test**"
      ],
      "metadata": {
        "id": "dwlScL9wX5zT"
      }
    },
    {
      "cell_type": "code",
      "source": [
        "# Bloc 2: Importations et téléchargement de l'image\n",
        "import cv2\n",
        "import numpy as np\n",
        "import os\n",
        "import matplotlib.pyplot as plt\n",
        "import random\n",
        "import time\n",
        "\n",
        "# Télécharger une image de test\n",
        "!wget https://upload.wikimedia.org/wikipedia/en/7/7d/Lenna_%28test_image%29.png -O lenna.png\n",
        "\n",
        "# Charger l'image en niveaux de gris et la redimensionner pour la cohérence\n",
        "IMG_SIZE = 512\n",
        "img = cv2.imread('lenna.png', cv2.IMREAD_GRAYSCALE )\n",
        "img = cv2.resize(img, (IMG_SIZE, IMG_SIZE))\n",
        "\n",
        "print(f\"Image 'lenna.png' chargée et redimensionnée en {IMG_SIZE}x{IMG_SIZE}.\")\n",
        "plt.imshow(img, cmap='gray')\n",
        "plt.title(\"Image de Test Originale CIHLHF\")\n",
        "plt.axis('off')\n",
        "plt.show()\n"
      ],
      "metadata": {
        "id": "w9ush1tGX7Pi"
      },
      "execution_count": null,
      "outputs": []
    },
    {
      "cell_type": "markdown",
      "source": [
        "**Étape 2 : Définition des Fonctions de Base**"
      ],
      "metadata": {
        "id": "eh3NT1Y9YE86"
      }
    },
    {
      "cell_type": "markdown",
      "source": [
        "Nous définissons ici les fonctions utilitaires pour la division en fragments et la gestion de la clé de mappage. La clé de mappage est une permutation des indices des fragments."
      ],
      "metadata": {
        "id": "1AhVPdXLYIJ8"
      }
    },
    {
      "cell_type": "code",
      "source": [
        "# Bloc 3: Fonctions utilitaires\n",
        "\n",
        "def split_image_into_fragments(image, fragment_size):\n",
        "    \"\"\"Divise une image en une liste de fragments non superposés.\"\"\"\n",
        "    h, w = image.shape\n",
        "    fragments = []\n",
        "    for y in range(0, h, fragment_size):\n",
        "        for x in range(0, w, fragment_size):\n",
        "            if y + fragment_size <= h and x + fragment_size <= w:\n",
        "                fragments.append(image[y:y+fragment_size, x:x+fragment_size])\n",
        "    return fragments\n",
        "\n",
        "def generate_mapping_key(num_fragments, seed=None):\n",
        "    \"\"\"\n",
        "    Génère une clé de mappage, qui est une permutation des indices des fragments.\n",
        "    Un 'seed' (graine) est utilisé pour rendre la permutation reproductible.\n",
        "    Le seed est la clé secrète partagée.\n",
        "    \"\"\"\n",
        "    indices = list(range(num_fragments))\n",
        "    if seed is not None:\n",
        "        random.seed(seed)\n",
        "    random.shuffle(indices)\n",
        "    return indices\n",
        "\n",
        "print(\"Fonctions utilitaires définies.\")\n"
      ],
      "metadata": {
        "id": "lE04Auj-YLAM"
      },
      "execution_count": null,
      "outputs": []
    },
    {
      "cell_type": "markdown",
      "source": [
        "**Étape 3 : Implémentation du Cœur de la Méthode CIHLHF**"
      ],
      "metadata": {
        "id": "Vql1lm41YOxq"
      }
    },
    {
      "cell_type": "markdown",
      "source": [
        "C'est ici que nous codons la logique principale de la méthode : l'extraction des valeurs min/max et la génération du code de hachage de 2 bits."
      ],
      "metadata": {
        "id": "-Nt4YFAtYQSD"
      }
    },
    {
      "cell_type": "code",
      "source": [
        "# Bloc 4: Calcul du code de hachage CIHLHF\n",
        "\n",
        "def get_min_max_values(fragment):\n",
        "    \"\"\"Retourne les valeurs minimale et maximale d'un fragment.\"\"\"\n",
        "    if fragment.size == 0:\n",
        "        return 0, 0\n",
        "    return np.min(fragment), np.max(fragment)\n",
        "\n",
        "def get_msb(value):\n",
        "    \"\"\"Retourne le bit de poids fort (MSB) d'une valeur de 8 bits.\"\"\"\n",
        "    return '1' if value >= 128 else '0'\n",
        "\n",
        "def calculate_cihlhf_hash(fragment):\n",
        "    \"\"\"\n",
        "    Calcule le code de hachage de 2 bits pour un fragment\n",
        "    en utilisant la méthode CIHLHF.\n",
        "    \"\"\"\n",
        "    min_val, max_val = get_min_max_values(fragment)\n",
        "    msb_min = get_msb(min_val)\n",
        "    msb_max = get_msb(max_val)\n",
        "\n",
        "    # Le hachage est la concaténation du MSB du min et du MSB du max\n",
        "    return f\"{msb_min}{msb_max}\"\n",
        "\n",
        "print(\"Fonction de hachage CIHLHF définie.\")\n"
      ],
      "metadata": {
        "id": "8zyB6NDOYSgi"
      },
      "execution_count": null,
      "outputs": []
    },
    {
      "cell_type": "markdown",
      "source": [
        "**Étape 4 : Phase de Dissimulation (Encodeur CIHLHF)**"
      ],
      "metadata": {
        "id": "7jGDq-w7YX-c"
      }
    },
    {
      "cell_type": "markdown",
      "source": [
        "Nous assemblons les fonctions pour créer le processus complet de dissimulation."
      ],
      "metadata": {
        "id": "uF-vX_v0Yavy"
      }
    },
    {
      "cell_type": "code",
      "source": [
        "# Bloc 5: Encodeur CIHLHF\n",
        "\n",
        "def hide_message_cihlhf(image, secret_message, fragment_size, mapping_key_seed):\n",
        "    \"\"\"Dissimule un message dans une image en utilisant la méthode CIHLHF.\"\"\"\n",
        "    # 1. Préparation\n",
        "    fragments = split_image_into_fragments(image, fragment_size)\n",
        "    num_fragments = len(fragments)\n",
        "\n",
        "    # Le message est converti en binaire\n",
        "    message_binary = ''.join(f'{ord(c):08b}' for c in secret_message)\n",
        "\n",
        "    # La capacité est de 2 bits par fragment\n",
        "    capacity_bits = num_fragments * 2\n",
        "    if len(message_binary) > capacity_bits:\n",
        "        print(f\"ERREUR: Le message est trop long. Capacité max: {capacity_bits} bits, Message: {len(message_binary)} bits.\")\n",
        "        return None, None\n",
        "\n",
        "    # 2. Génération de la clé de mappage\n",
        "    mapping_key = generate_mapping_key(num_fragments, seed=mapping_key_seed)\n",
        "\n",
        "    # 3. Génération de la table de correspondance (Lookup Table)\n",
        "    # C'est une simple liste de hachages dans l'ordre des fragments\n",
        "    all_hashes = [calculate_cihlhf_hash(f) for f in fragments]\n",
        "\n",
        "    # 4. Création du \"Mapping Flag\" (indicateur de mappage)\n",
        "    # Le mapping flag indique si le bit du message correspond au bit de hachage.\n",
        "    # U = NOT(T XOR H)\n",
        "    # U=1 si T==H, U=0 si T!=H\n",
        "\n",
        "    mapping_flag = []\n",
        "    message_bits_used = 0\n",
        "\n",
        "    # La dissimulation se fait en utilisant la clé de mappage pour parcourir les fragments\n",
        "    for fragment_index in mapping_key:\n",
        "        if message_bits_used >= len(message_binary):\n",
        "            break # Tout le message a été caché\n",
        "\n",
        "        hash_bits = all_hashes[fragment_index] # Hachage de 2 bits du fragment\n",
        "\n",
        "        # Cacher le premier bit du message\n",
        "        message_bit_1 = message_binary[message_bits_used]\n",
        "        flag_1 = '1' if message_bit_1 == hash_bits[0] else '0'\n",
        "        mapping_flag.append(flag_1)\n",
        "        message_bits_used += 1\n",
        "\n",
        "        if message_bits_used >= len(message_binary):\n",
        "            break\n",
        "\n",
        "        # Cacher le second bit du message\n",
        "        message_bit_2 = message_binary[message_bits_used]\n",
        "        flag_2 = '1' if message_bit_2 == hash_bits[1] else '0'\n",
        "        mapping_flag.append(flag_2)\n",
        "        message_bits_used += 1\n",
        "\n",
        "    print(f\"Message dissimulé avec succès. Longueur du mapping flag: {len(mapping_flag)} bits.\")\n",
        "    return image, \"\".join(mapping_flag)\n",
        "\n",
        "print(\"Encodeur CIHLHF défini.\")\n"
      ],
      "metadata": {
        "id": "pua0TlmrYdg0"
      },
      "execution_count": null,
      "outputs": []
    },
    {
      "cell_type": "markdown",
      "source": [
        "**Étape 5 : Phase d'Extraction (Décodeur CIHLHF)**"
      ],
      "metadata": {
        "id": "8g0zMVqsYh8k"
      }
    },
    {
      "cell_type": "markdown",
      "source": [
        "Nous implémentons le processus inverse pour extraire le message."
      ],
      "metadata": {
        "id": "B9XfhUjKYlBy"
      }
    },
    {
      "cell_type": "code",
      "source": [
        "# Bloc 6: Décodeur CIHLHF\n",
        "\n",
        "def extract_message_cihlhf(image, mapping_flag, fragment_size, mapping_key_seed):\n",
        "    \"\"\"Extrait un message d'une image en utilisant la méthode CIHLHF.\"\"\"\n",
        "    # 1. Préparation\n",
        "    fragments = split_image_into_fragments(image, fragment_size)\n",
        "    num_fragments = len(fragments)\n",
        "\n",
        "    # 2. Régénération de la clé de mappage et des hachages\n",
        "    mapping_key = generate_mapping_key(num_fragments, seed=mapping_key_seed)\n",
        "    all_hashes = [calculate_cihlhf_hash(f) for f in fragments]\n",
        "\n",
        "    # 3. Reconstruction du message\n",
        "    extracted_binary = []\n",
        "    flag_index = 0\n",
        "\n",
        "    for fragment_index in mapping_key:\n",
        "        if flag_index >= len(mapping_flag):\n",
        "            break # On a lu tout le mapping flag\n",
        "\n",
        "        hash_bits = all_hashes[fragment_index]\n",
        "\n",
        "        # Extraire le premier bit\n",
        "        flag_1 = mapping_flag[flag_index]\n",
        "        # Si flag=1, T=H. Si flag=0, T=NOT(H)\n",
        "        extracted_bit_1 = hash_bits[0] if flag_1 == '1' else ('0' if hash_bits[0] == '1' else '1')\n",
        "        extracted_binary.append(extracted_bit_1)\n",
        "        flag_index += 1\n",
        "\n",
        "        if flag_index >= len(mapping_flag):\n",
        "            break\n",
        "\n",
        "        # Extraire le second bit\n",
        "        flag_2 = mapping_flag[flag_index]\n",
        "        extracted_bit_2 = hash_bits[1] if flag_2 == '1' else ('0' if hash_bits[1] == '1' else '1')\n",
        "        extracted_binary.append(extracted_bit_2)\n",
        "        flag_index += 1\n",
        "\n",
        "    # 4. Conversion du binaire en texte\n",
        "    binary_string = \"\".join(extracted_binary)\n",
        "    secret_message = \"\"\n",
        "    for i in range(0, len(binary_string), 8):\n",
        "        byte = binary_string[i:i+8]\n",
        "        if len(byte) == 8:\n",
        "            try:\n",
        "                secret_message += chr(int(byte, 2))\n",
        "            except ValueError:\n",
        "                secret_message += '?' # Caractère invalide\n",
        "\n",
        "    return secret_message\n",
        "\n",
        "print(\"Décodeur CIHLHF défini.\")\n"
      ],
      "metadata": {
        "id": "3vKSZCprYnBs"
      },
      "execution_count": null,
      "outputs": []
    },
    {
      "cell_type": "markdown",
      "source": [
        "**Étape 6 : Exécution du Cycle Complet**"
      ],
      "metadata": {
        "id": "jszj4LRcYqF3"
      }
    },
    {
      "cell_type": "markdown",
      "source": [
        "Mettons la méthode à l'épreuve en exécutant un cycle complet de dissimulation et d'extraction."
      ],
      "metadata": {
        "id": "VxG9sLB_YtkD"
      }
    },
    {
      "cell_type": "code",
      "source": [
        "# Bloc 7: Exécution du cycle complet CIHLHF\n",
        "\n",
        "# --- Paramètres ---\n",
        "FRAGMENT_SIZE = 8\n",
        "SECRET_MESSAGE = \"Test de la methode CIHLHF qui utilise les valeurs min et max.\"\n",
        "# La clé secrète est la \"graine\" pour le générateur de nombres aléatoires\n",
        "SECRET_KEY_SEED = 42\n",
        "\n",
        "# --- PHASE DE DISSIMULATION ---\n",
        "print(\"--- DÉBUT DE LA PHASE DE DISSIMULATION CIHLHF ---\")\n",
        "stego_image_cihlhf, mapping_flag_cihlhf = hide_message_cihlhf(\n",
        "    img, SECRET_MESSAGE, FRAGMENT_SIZE, SECRET_KEY_SEED\n",
        ")\n",
        "\n",
        "# --- PHASE D'EXTRACTION ---\n",
        "if stego_image_cihlhf is not None:\n",
        "    print(\"\\n--- DÉBUT DE LA PHASE D'EXTRACTION CIHLHF ---\")\n",
        "\n",
        "    # Test 1: Extraction depuis l'image non altérée\n",
        "    extracted_message_cihlhf = extract_message_cihlhf(\n",
        "        stego_image_cihlhf, mapping_flag_cihlhf, FRAGMENT_SIZE, SECRET_KEY_SEED\n",
        "    )\n",
        "\n",
        "    print(\"\\n--- RÉSULTATS ---\")\n",
        "    print(f\"Message Original : '{SECRET_MESSAGE}'\")\n",
        "    print(f\"Message Extrait  : '{extracted_message_cihlhf}'\")\n",
        "\n",
        "    if SECRET_MESSAGE == extracted_message_cihlhf:\n",
        "        print(\"\\nSUCCÈS : Le message a été extrait correctement de l'image non altérée !\")\n",
        "    else:\n",
        "        print(\"\\nÉCHEC : Le message extrait ne correspond pas.\")\n",
        "\n",
        "    # Test 2: Extraction depuis une image attaquée (Bruit Sel & Poivre)\n",
        "    # C'est l'attaque la plus pertinente pour cette méthode.\n",
        "    print(\"\\n--- TEST DE ROBUSTESSE (BRUIT SEL & POIVRE) ---\")\n",
        "\n",
        "    # Créer une copie de l'image pour l'attaque\n",
        "    attacked_image = img.copy()\n",
        "    # Ajouter un bruit \"sel et poivre\" de seulement 1%\n",
        "    noise_amount = 0.01\n",
        "    num_salt = np.ceil(noise_amount * attacked_image.size * 0.5)\n",
        "    num_pepper = np.ceil(noise_amount * attacked_image.size * 0.5)\n",
        "\n",
        "    # Poivre (0)\n",
        "    coords = [np.random.randint(0, i - 1, int(num_pepper)) for i in attacked_image.shape]\n",
        "    attacked_image[coords[0], coords[1]] = 0\n",
        "    # Sel (255)\n",
        "    coords = [np.random.randint(0, i - 1, int(num_salt)) for i in attacked_image.shape]\n",
        "    attacked_image[coords[0], coords[1]] = 255\n",
        "\n",
        "    plt.imshow(attacked_image, cmap='gray')\n",
        "    plt.title(f\"Image après Attaque Sel & Poivre ({noise_amount*100}%)\")\n",
        "    plt.axis('off')\n",
        "    plt.show()\n",
        "\n",
        "    # Tenter d'extraire le message de l'image attaquée\n",
        "    extracted_message_attacked = extract_message_cihlhf(\n",
        "        attacked_image, mapping_flag_cihlhf, FRAGMENT_SIZE, SECRET_KEY_SEED\n",
        "    )\n",
        "    print(f\"\\nMessage Extrait après Attaque : '{extracted_message_attacked}'\")\n",
        "\n",
        "    # Calcul du BER\n",
        "    original_bits = ''.join(f'{ord(c):08b}' for c in SECRET_MESSAGE)\n",
        "    extracted_bits = ''.join(f'{ord(c):08b}' for c in extracted_message_attacked)\n",
        "    errors = sum(1 for i in range(min(len(original_bits), len(extracted_bits))) if original_bits[i] != extracted_bits[i])\n",
        "    errors += abs(len(original_bits) - len(extracted_bits))\n",
        "    ber = (errors / len(original_bits)) * 100 if original_bits else 0\n",
        "    print(f\"Taux d'Erreur Binaire (BER) après attaque : {ber:.2f}%\")\n",
        "\n"
      ],
      "metadata": {
        "id": "r5dWIshGYwKk"
      },
      "execution_count": null,
      "outputs": []
    },
    {
      "cell_type": "markdown",
      "source": [
        "## **TESTS COMPLET DE LA METHODE CIHLHF**"
      ],
      "metadata": {
        "id": "UFNR_JXxZ8Da"
      }
    },
    {
      "cell_type": "markdown",
      "source": [
        "Ce notebook a pour objectif de réaliser une évaluation exhaustive de la méthode de stéganographie CIHLHF en la soumettant à une série de tests fonctionnels, de robustesse, de capacité et de performance."
      ],
      "metadata": {
        "id": "O4qwMIPAaFNS"
      }
    },
    {
      "cell_type": "markdown",
      "source": [
        "**Étape 0 : Configuration et Implémentation de la Méthode CIHLHF**"
      ],
      "metadata": {
        "id": "MCAueQmuaJZj"
      }
    },
    {
      "cell_type": "markdown",
      "source": [
        "Nous allons d'abord réutiliser le code d'implémentation de la méthode CIHLHF que nous avons développé précédemment."
      ],
      "metadata": {
        "id": "F_f-_A8daMKD"
      }
    },
    {
      "cell_type": "code",
      "source": [
        "# Bloc 1: Installation, importations et téléchargement de l'image\n",
        "!pip install scikit-image opencv-python numpy matplotlib\n",
        "import cv2\n",
        "import numpy as np\n",
        "import os\n",
        "import matplotlib.pyplot as plt\n",
        "import random\n",
        "import time\n",
        "from skimage.transform import rotate, rescale\n",
        "from skimage.util import random_noise\n",
        "from skimage.exposure import adjust_gamma, equalize_hist\n",
        "import json\n",
        "from datetime import datetime\n",
        "\n",
        "# Télécharger et préparer l'image\n",
        "!wget https://upload.wikimedia.org/wikipedia/en/7/7d/Lenna_%28test_image%29.png -O lenna.png\n",
        "IMG_SIZE = 512\n",
        "BASE_IMAGE = cv2.imread('lenna.png', cv2.IMREAD_GRAYSCALE )\n",
        "BASE_IMAGE = cv2.resize(BASE_IMAGE, (IMG_SIZE, IMG_SIZE))\n",
        "\n",
        "print(\"Environnement prêt.\")\n",
        "\n",
        "# Bloc 2: Code complet de la méthode CIHLHF (regroupé pour la clarté)\n",
        "\n",
        "# --- Fonctions Utilitaires ---\n",
        "def split_image_into_fragments(image, fragment_size):\n",
        "    h, w = image.shape\n",
        "    fragments = []\n",
        "    for y in range(0, h, fragment_size):\n",
        "        for x in range(0, w, fragment_size):\n",
        "            if y + fragment_size <= h and x + fragment_size <= w:\n",
        "                fragments.append(image[y:y+fragment_size, x:x+fragment_size])\n",
        "    return fragments\n",
        "\n",
        "def generate_mapping_key(num_fragments, seed=None):\n",
        "    indices = list(range(num_fragments))\n",
        "    if seed is not None:\n",
        "        random.seed(seed)\n",
        "    random.shuffle(indices)\n",
        "    return indices\n",
        "\n",
        "# --- Cœur de la méthode CIHLHF ---\n",
        "def get_min_max_values(fragment):\n",
        "    if fragment.size == 0: return 0, 0\n",
        "    return np.min(fragment), np.max(fragment)\n",
        "\n",
        "def get_msb(value):\n",
        "    return '1' if value >= 128 else '0'\n",
        "\n",
        "def calculate_cihlhf_hash(fragment):\n",
        "    min_val, max_val = get_min_max_values(fragment)\n",
        "    return f\"{get_msb(min_val)}{get_msb(max_val)}\"\n",
        "\n",
        "# --- Fonctions Encodeur/Décodeur ---\n",
        "def hide_message_cihlhf(image, secret_message, fragment_size, mapping_key_seed):\n",
        "    fragments = split_image_into_fragments(image, fragment_size)\n",
        "    num_fragments = len(fragments)\n",
        "    message_binary = ''.join(f'{ord(c):08b}' for c in secret_message)\n",
        "    capacity_bits = num_fragments * 2\n",
        "    if len(message_binary) > capacity_bits:\n",
        "        return None, None, \"Capacity issue\"\n",
        "    mapping_key = generate_mapping_key(num_fragments, seed=mapping_key_seed)\n",
        "    all_hashes = [calculate_cihlhf_hash(f) for f in fragments]\n",
        "    mapping_flag = []\n",
        "    message_bits_used = 0\n",
        "    for fragment_index in mapping_key:\n",
        "        if message_bits_used >= len(message_binary): break\n",
        "        hash_bits = all_hashes[fragment_index]\n",
        "        for bit_in_hash in hash_bits:\n",
        "            if message_bits_used >= len(message_binary): break\n",
        "            message_bit = message_binary[message_bits_used]\n",
        "            mapping_flag.append('1' if message_bit == bit_in_hash else '0')\n",
        "            message_bits_used += 1\n",
        "    return image, \"\".join(mapping_flag), \"Success\"\n",
        "\n",
        "def extract_message_cihlhf(image, mapping_flag, fragment_size, mapping_key_seed):\n",
        "    if not mapping_flag: return \"\"\n",
        "    fragments = split_image_into_fragments(image, fragment_size)\n",
        "    num_fragments = len(fragments)\n",
        "    mapping_key = generate_mapping_key(num_fragments, seed=mapping_key_seed)\n",
        "    all_hashes = [calculate_cihlhf_hash(f) for f in fragments]\n",
        "    extracted_binary = []\n",
        "    flag_index = 0\n",
        "    for fragment_index in mapping_key:\n",
        "        if flag_index >= len(mapping_flag): break\n",
        "        hash_bits = all_hashes[fragment_index]\n",
        "        for bit_in_hash in hash_bits:\n",
        "            if flag_index >= len(mapping_flag): break\n",
        "            flag = mapping_flag[flag_index]\n",
        "            extracted_binary.append(bit_in_hash if flag == '1' else ('0' if bit_in_hash == '1' else '1'))\n",
        "            flag_index += 1\n",
        "    binary_string = \"\".join(extracted_binary)\n",
        "    secret_message = \"\"\n",
        "    for i in range(0, len(binary_string), 8):\n",
        "        byte = binary_string[i:i+8]\n",
        "        if len(byte) == 8:\n",
        "            try: secret_message += chr(int(byte, 2))\n",
        "            except ValueError: secret_message += '?'\n",
        "    return secret_message\n",
        "\n",
        "print(\"Implémentation de la méthode CIHLHF prête.\")\n"
      ],
      "metadata": {
        "id": "HYsWnxmdaPFD"
      },
      "execution_count": null,
      "outputs": []
    },
    {
      "cell_type": "markdown",
      "source": [
        "**Étape 1 : Définition de la Suite de Tests**"
      ],
      "metadata": {
        "id": "un8bswHdaWeS"
      }
    },
    {
      "cell_type": "markdown",
      "source": [
        "Nous réutilisons la même structure de test que pour les méthodes précédentes, en l'adaptant pour CIHLHF."
      ],
      "metadata": {
        "id": "jQlcHiRUaaYC"
      }
    },
    {
      "cell_type": "code",
      "source": [
        "# Bloc 3: Fonctions de la suite de tests pour CIHLHF\n",
        "\n",
        "# --- Paramètres globaux pour les tests ---\n",
        "FRAGMENT_SIZE = 8\n",
        "SECRET_KEY_SEED = 42 # La clé secrète partagée\n",
        "results = {}\n",
        "\n",
        "def calculate_ber(original_msg, extracted_msg):\n",
        "    \"\"\"Calcule le Bit Error Rate (BER).\"\"\"\n",
        "    if not extracted_msg: return 100.0\n",
        "    original_bits = ''.join(f'{ord(c):08b}' for c in original_msg)\n",
        "    extracted_bits = ''.join(f'{ord(c):08b}' for c in extracted_msg)\n",
        "    errors = 0\n",
        "    min_len = min(len(original_bits), len(extracted_bits))\n",
        "    errors += sum(1 for i in range(min_len) if original_bits[i] != extracted_bits[i])\n",
        "    errors += abs(len(original_bits) - len(extracted_bits))\n",
        "    return (errors / len(original_bits)) * 100 if len(original_bits) > 0 else 0\n",
        "\n",
        "def run_single_test_cihlhf(message, attacked_image):\n",
        "    \"\"\"Exécute un cycle de dissimulation/extraction sur une image pour CIHLHF.\"\"\"\n",
        "    _, mapping_flag, status = hide_message_cihlhf(BASE_IMAGE, message, FRAGMENT_SIZE, SECRET_KEY_SEED)\n",
        "    if status != \"Success\":\n",
        "        return 100.0\n",
        "    extracted_msg = extract_message_cihlhf(attacked_image, mapping_flag, FRAGMENT_SIZE, SECRET_KEY_SEED)\n",
        "    return calculate_ber(message, extracted_msg)\n",
        "\n",
        "# --- Définitions des tests ---\n",
        "\n",
        "def test_functional():\n",
        "    print(\"\\n1. TEST FONCTIONNEL DE BASE\")\n",
        "    messages = [\"A\", \"Test CIHLHF\", \"Message de test un peu plus long pour la methode\", \"Message beaucoup plus long pour verifier la capacite de base et la robustesse fonctionnelle de l'implementation complete.\"]\n",
        "    success_count = 0\n",
        "    results['functional'] = []\n",
        "    for i, msg in enumerate(messages):\n",
        "        ber = run_single_test_cihlhf(msg, BASE_IMAGE.copy())\n",
        "        status = \"SUCCÈS\" if ber == 0.0 else \"ÉCHEC\"\n",
        "        if status == \"SUCCÈS\": success_count += 1\n",
        "        print(f\"  Message {i+1}: {len(msg)} chars -> {status}\")\n",
        "        results['functional'].append({'message_length': len(msg), 'status': status})\n",
        "    print(f\"  Taux de réussite: {success_count / len(messages) * 100:.1f}%\")\n",
        "\n",
        "def test_jpeg_robustness():\n",
        "    print(\"\\n2. TEST ROBUSTESSE JPEG\")\n",
        "    message = \"Test JPEG\"\n",
        "    results['jpeg'] = []\n",
        "    for quality in [95, 80, 70, 50, 30]:\n",
        "        _, buffer = cv2.imencode('.jpg', BASE_IMAGE, [int(cv2.IMWRITE_JPEG_QUALITY), quality])\n",
        "        attacked_image = cv2.imdecode(buffer, cv2.IMREAD_GRAYSCALE)\n",
        "        ber = run_single_test_cihlhf(message, attacked_image)\n",
        "        print(f\"  Qualité {quality}: BER={ber:.2f}%\")\n",
        "        results['jpeg'].append({'quality': quality, 'ber': ber})\n",
        "\n",
        "def test_noise_robustness():\n",
        "    print(\"\\n3. TESTS DE BRUIT\")\n",
        "    message = \"Test Bruit\"\n",
        "    results['noise'] = []\n",
        "    # Bruit Gaussien\n",
        "    for sigma in [0.005, 0.01, 0.02, 0.05]:\n",
        "        attacked_image = (random_noise(BASE_IMAGE, mode='gaussian', var=sigma) * 255).astype(np.uint8)\n",
        "        ber = run_single_test_cihlhf(message, attacked_image)\n",
        "        print(f\"  Bruit Gaussien σ²={sigma}: BER={ber:.2f}%\")\n",
        "        results['noise'].append({'type': 'gaussian', 'sigma_sq': sigma, 'ber': ber})\n",
        "    # Bruit Sel & Poivre\n",
        "    for amount in [0.01, 0.03, 0.05, 0.1]:\n",
        "        attacked_image = (random_noise(BASE_IMAGE, mode='s&p', amount=amount) * 255).astype(np.uint8)\n",
        "        ber = run_single_test_cihlhf(message, attacked_image)\n",
        "        print(f\"  Sel & Poivre {amount*100:.0f}%: BER={ber:.2f}%\")\n",
        "        results['noise'].append({'type': 's&p', 'amount': amount, 'ber': ber})\n",
        "\n",
        "def test_filtering_robustness():\n",
        "    print(\"\\n4. TESTS DE FILTRAGE\")\n",
        "    message = \"Test Filtre\"\n",
        "    results['filtering'] = []\n",
        "    # Flou Gaussien\n",
        "    for k in [3, 5, 7, 9]:\n",
        "        attacked_image = cv2.GaussianBlur(BASE_IMAGE, (k, k), 0)\n",
        "        ber = run_single_test_cihlhf(message, attacked_image)\n",
        "        print(f\"  Flou Gaussien {k}x{k}: BER={ber:.2f}%\")\n",
        "        results['filtering'].append({'type': 'gaussian_blur', 'kernel': k, 'ber': ber})\n",
        "    # Flou Médian\n",
        "    for k in [3, 5, 7]:\n",
        "        attacked_image = cv2.medianBlur(BASE_IMAGE, k)\n",
        "        ber = run_single_test_cihlhf(message, attacked_image)\n",
        "        print(f\"  Flou Médian {k}x{k}: BER={ber:.2f}%\")\n",
        "        results['filtering'].append({'type': 'median_blur', 'kernel': k, 'ber': ber})\n",
        "\n",
        "def test_geometric_robustness():\n",
        "    print(\"\\n5. TESTS GÉOMÉTRIQUES\")\n",
        "    message = \"Test Geo\"\n",
        "    results['geometric'] = []\n",
        "    # Rotation\n",
        "    for angle in [0.5, 1, 2, 5]:\n",
        "        attacked_image = (rotate(BASE_IMAGE, angle, resize=False, preserve_range=True)).astype(np.uint8)\n",
        "        ber = run_single_test_cihlhf(message, attacked_image)\n",
        "        print(f\"  Rotation {angle}°: BER={ber:.2f}%\")\n",
        "        results['geometric'].append({'type': 'rotation', 'angle': angle, 'ber': ber})\n",
        "    # Scaling\n",
        "    for scale in [0.9, 1.1, 0.8, 1.2]:\n",
        "        h, w = BASE_IMAGE.shape\n",
        "        attacked_image = rescale(BASE_IMAGE, scale, preserve_range=True).astype(np.uint8)\n",
        "        nh, nw = attacked_image.shape\n",
        "        if scale < 1.0:\n",
        "            pad_h, pad_w = (h - nh) // 2, (w - nw) // 2\n",
        "            attacked_image = np.pad(attacked_image, ((pad_h, h-nh-pad_h), (pad_w, w-nw-pad_w)), 'constant')\n",
        "        else:\n",
        "            crop_h, crop_w = (nh - h) // 2, (nw - w) // 2\n",
        "            attacked_image = attacked_image[crop_h:crop_h+h, crop_w:crop_w+w]\n",
        "        ber = run_single_test_cihlhf(message, attacked_image)\n",
        "        print(f\"  Scaling {scale}: BER={ber:.2f}%\")\n",
        "        results['geometric'].append({'type': 'scaling', 'scale': scale, 'ber': ber})\n",
        "\n",
        "def test_contrast_luminance():\n",
        "    print(\"\\n6. TESTS CONTRASTE/LUMINOSITÉ\")\n",
        "    message = \"Test Contraste\"\n",
        "    results['contrast'] = []\n",
        "    # Correction Gamma\n",
        "    for gamma in [0.7, 0.8, 1.2, 1.5]:\n",
        "        attacked_image = (adjust_gamma(BASE_IMAGE, gamma) * 255).astype(np.uint8)\n",
        "        ber = run_single_test_cihlhf(message, attacked_image)\n",
        "        print(f\"  Gamma {gamma}: BER={ber:.2f}%\")\n",
        "        results['contrast'].append({'type': 'gamma', 'value': gamma, 'ber': ber})\n",
        "    # Luminosité\n",
        "    for val in [-30, -15, 15, 30]:\n",
        "        attacked_image = cv2.add(BASE_IMAGE, val)\n",
        "        # S'assurer que les valeurs restent dans [0, 255]\n",
        "        attacked_image[BASE_IMAGE < abs(val) if val < 0 else BASE_IMAGE > 255-val] = 0 if val < 0 else 255\n",
        "        ber = run_single_test_cihlhf(message, attacked_image)\n",
        "        print(f\"  Luminosité {val}: BER={ber:.2f}%\")\n",
        "        results['contrast'].append({'type': 'brightness', 'value': val, 'ber': ber})\n",
        "    # Égalisation d'histogramme\n",
        "    attacked_image = equalize_hist(BASE_IMAGE)\n",
        "    ber = run_single_test_cihlhf(message, attacked_image)\n",
        "    print(f\"  Égalisation histogramme: BER={ber:.2f}%\")\n",
        "    results['contrast'].append({'type': 'hist_equalization', 'ber': ber})\n",
        "\n",
        "def test_capacity():\n",
        "    print(\"\\n7. TEST DE CAPACITÉ\")\n",
        "    results['capacity'] = {}\n",
        "    fragments = split_image_into_fragments(BASE_IMAGE, FRAGMENT_SIZE)\n",
        "    total_fragments = len(fragments)\n",
        "    print(f\"  Fragments totaux ({FRAGMENT_SIZE}x{FRAGMENT_SIZE}): {total_fragments}\")\n",
        "    results['capacity']['total_fragments'] = total_fragments\n",
        "\n",
        "    capacity_bits = total_fragments * 2\n",
        "    capacity_bytes = capacity_bits // 8\n",
        "    print(f\"  Capacité théorique: {capacity_bits} bits ({capacity_bytes} bytes)\")\n",
        "    results['capacity']['theoretical_bits'] = capacity_bits\n",
        "\n",
        "    print(\"  Distribution des hachages:\")\n",
        "    lookup_table = {'00': 0, '01': 0, '10': 0, '11': 0}\n",
        "    for f in fragments:\n",
        "        h = calculate_cihlhf_hash(f)\n",
        "        lookup_table[h] += 1\n",
        "    results['capacity']['hash_distribution'] = lookup_table\n",
        "    for h, count in lookup_table.items():\n",
        "        print(f\"    {h}: {count} fragments\")\n",
        "\n",
        "def test_performance():\n",
        "    print(\"\\n8. TESTS DE PERFORMANCE\")\n",
        "    message = \"Test de performance avec un message de taille raisonnable pour la methode CIHLHF.\"\n",
        "    results['performance'] = {}\n",
        "\n",
        "    start_time = time.time()\n",
        "    _, _, _ = hide_message_cihlhf(BASE_IMAGE, message, FRAGMENT_SIZE, SECRET_KEY_SEED)\n",
        "    end_time = time.time()\n",
        "    dissimulation_time = (end_time - start_time) * 1000\n",
        "    print(f\"  Temps dissimulation: {dissimulation_time:.2f} ms\")\n",
        "    results['performance']['dissimulation_ms'] = dissimulation_time\n",
        "\n",
        "    _, mapping_flag, _ = hide_message_cihlhf(BASE_IMAGE, message, FRAGMENT_SIZE, SECRET_KEY_SEED)\n",
        "    start_time = time.time()\n",
        "    _ = extract_message_cihlhf(BASE_IMAGE, mapping_flag, FRAGMENT_SIZE, SECRET_KEY_SEED)\n",
        "    end_time = time.time()\n",
        "    extraction_time = (end_time - start_time) * 1000\n",
        "    print(f\"  Temps extraction: {extraction_time:.2f} ms\")\n",
        "    results['performance']['extraction_ms'] = extraction_time\n",
        "\n",
        "    debit = len(message) / (dissimulation_time / 1000)\n",
        "    print(f\"  Débit (dissimulation): {debit:.2f} chars/sec\")\n",
        "    results['performance']['throughput_chars_sec'] = debit\n",
        "\n",
        "def test_security():\n",
        "    print(\"\\n9. TESTS DE SÉCURITÉ\")\n",
        "    message = \"Test Securite\"\n",
        "    results['security'] = []\n",
        "\n",
        "    _, mapping_flag, _ = hide_message_cihlhf(BASE_IMAGE, message, FRAGMENT_SIZE, SECRET_KEY_SEED)\n",
        "\n",
        "    # Bonne clé\n",
        "    extracted_msg = extract_message_cihlhf(BASE_IMAGE, mapping_flag, FRAGMENT_SIZE, SECRET_KEY_SEED)\n",
        "    status_good_key = \"SUCCÈS\" if message == extracted_msg else \"ÉCHEC\"\n",
        "    print(f\"  Bonne clé (seed={SECRET_KEY_SEED}): {status_good_key}\")\n",
        "    results['security'].append({'key': 'correct', 'status': status_good_key})\n",
        "\n",
        "    # Mauvaise clé\n",
        "    wrong_key_seed = SECRET_KEY_SEED + 1\n",
        "    extracted_msg_wrong = extract_message_cihlhf(BASE_IMAGE, mapping_flag, FRAGMENT_SIZE, wrong_key_seed)\n",
        "    status_wrong_key = \"ÉCHEC\" if message != extracted_msg_wrong else \"SUCCÈS (inattendu)\"\n",
        "    print(f\"  Mauvaise clé (seed={wrong_key_seed}): {status_wrong_key}\")\n",
        "    results['security'].append({'key': 'wrong', 'status': status_wrong_key})\n",
        "\n",
        "print(\"Suite de tests pour CIHLHF définie.\")\n"
      ],
      "metadata": {
        "id": "hqhDsMzDahxS"
      },
      "execution_count": null,
      "outputs": []
    },
    {
      "cell_type": "markdown",
      "source": [
        "**Étape 2 : Exécution de la Suite de Tests Complète**"
      ],
      "metadata": {
        "id": "n4KlTR4XanlD"
      }
    },
    {
      "cell_type": "markdown",
      "source": [
        "Cette dernière cellule exécute tous les tests définis ci-dessus pour la méthode CIHLHF."
      ],
      "metadata": {
        "id": "1vGdfWlFasTy"
      }
    },
    {
      "cell_type": "code",
      "source": [
        "# Bloc 4: Exécution de tous les tests et sauvegarde des résultats\n",
        "\n",
        "print(\"============================================================\")\n",
        "print(\"      LANCEMENT DE LA SUITE DE TESTS POUR CIHLHF\")\n",
        "print(\"============================================================\")\n",
        "\n",
        "test_functional()\n",
        "test_jpeg_robustness()\n",
        "test_noise_robustness()\n",
        "test_filtering_robustness()\n",
        "test_geometric_robustness()\n",
        "test_contrast_luminance()\n",
        "test_capacity()\n",
        "test_performance()\n",
        "test_security()\n",
        "\n",
        "# --- Sauvegarde des résultats ---\n",
        "timestamp = datetime.now().strftime(\"%Y%m%d_%H%M%S\")\n",
        "filename = f\"cihlhf_test_results_{timestamp}.json\"\n",
        "with open(filename, 'w') as f:\n",
        "    json.dump(results, f, indent=2)\n",
        "\n",
        "print(\"\\n============================================================\")\n",
        "print(\"                   RÉSUMÉ DES RÉSULTATS\")\n",
        "print(\"============================================================\")\n",
        "functional_success_rate = sum(1 for r in results['functional'] if r['status'] == 'SUCCÈS') / len(results['functional']) * 100\n",
        "print(f\"Taux de réussite fonctionnel: {functional_success_rate:.1f}%\")\n",
        "print(f\"Résultats sauvegardés dans: {filename}\")\n"
      ],
      "metadata": {
        "id": "rqhe99cEaubk"
      },
      "execution_count": null,
      "outputs": []
    },
    {
      "cell_type": "markdown",
      "source": [
        "# **METHODE CIH-QR**"
      ],
      "metadata": {
        "id": "s0H4ZMsJi8JX"
      }
    },
    {
      "cell_type": "markdown",
      "source": [
        "***Ce notebook implémente la méthode de stéganographie sans couverture CIH-QR, basée sur le classement par quantiles et les relations de voisinage.***"
      ],
      "metadata": {
        "id": "X5svlhBejAiB"
      }
    },
    {
      "cell_type": "markdown",
      "source": [
        "**Étape 0 : Configuration de l'Environnement**"
      ],
      "metadata": {
        "id": "ntdn3RTVjEio"
      }
    },
    {
      "cell_type": "code",
      "source": [
        "# Bloc 1: Installation des dépendances\n",
        "!pip install numpy opencv-python pycryptodome matplotlib\n",
        "print(\"Bibliothèques installées avec succès.\")\n"
      ],
      "metadata": {
        "id": "sodbVb1-jH1Y"
      },
      "execution_count": null,
      "outputs": []
    },
    {
      "cell_type": "markdown",
      "source": [
        "Étape 1 : Importations et Téléchargement de l'Image de Test"
      ],
      "metadata": {
        "id": "aUk3XA6ajJ5o"
      }
    },
    {
      "cell_type": "markdown",
      "source": [
        "Nous importons les modules requis et téléchargeons une image de test. L'image \"Lenna\" est un bon candidat car elle contient à la fois des zones lisses et des zones texturées."
      ],
      "metadata": {
        "id": "ADVyv7h_jMxo"
      }
    },
    {
      "cell_type": "code",
      "source": [
        "# Bloc 2: Importations et téléchargement de l'image\n",
        "import cv2\n",
        "import numpy as np\n",
        "from Crypto.Cipher import AES\n",
        "from Crypto.Random import get_random_bytes\n",
        "import os\n",
        "import matplotlib.pyplot as plt\n",
        "import pickle # Pour sauvegarder/charger le fichier de localisation\n",
        "import time\n",
        "\n",
        "# Télécharger une image de test\n",
        "!wget https://upload.wikimedia.org/wikipedia/en/7/7d/Lenna_%28test_image%29.png -O lenna.png\n",
        "\n",
        "# Charger l'image en niveaux de gris et la redimensionner pour la cohérence\n",
        "IMG_SIZE = 512\n",
        "img = cv2.imread('lenna.png', cv2.IMREAD_GRAYSCALE )\n",
        "img = cv2.resize(img, (IMG_SIZE, IMG_SIZE))\n",
        "\n",
        "print(f\"Image 'lenna.png' chargée et redimensionnée en {IMG_SIZE}x{IMG_SIZE}.\")\n",
        "plt.imshow(img, cmap='gray')\n",
        "plt.title(\"Image de Test Originale\")\n",
        "plt.axis('off')\n",
        "plt.show()\n"
      ],
      "metadata": {
        "id": "8PdxwdaOjO94"
      },
      "execution_count": null,
      "outputs": []
    },
    {
      "cell_type": "markdown",
      "source": [
        "**Étape 2 : Définition des Fonctions Utilitaires**"
      ],
      "metadata": {
        "id": "t4aZIcmUjo5Y"
      }
    },
    {
      "cell_type": "markdown",
      "source": [
        "Nous définissons ici les fonctions utilitaires pour la division en fragments et le chiffrement/déchiffrement AES."
      ],
      "metadata": {
        "id": "Gv3mngd7jvRv"
      }
    },
    {
      "cell_type": "code",
      "source": [
        "# Bloc 3: Fonctions utilitaires\n",
        "\n",
        "def split_image_into_fragments(image, fragment_size):\n",
        "    \"\"\"Divise une image en une liste de fragments non superposés.\"\"\"\n",
        "    h, w = image.shape\n",
        "    fragments = []\n",
        "    for y in range(0, h, fragment_size):\n",
        "        for x in range(0, w, fragment_size):\n",
        "            if y + fragment_size <= h and x + fragment_size <= w:\n",
        "                fragments.append(image[y:y+fragment_size, x:x+fragment_size])\n",
        "    return fragments\n",
        "\n",
        "def encrypt_aes_gcm(data, key):\n",
        "    \"\"\"Chiffre des données avec AES en mode GCM.\"\"\"\n",
        "    cipher = AES.new(key, AES.MODE_GCM)\n",
        "    ciphertext, tag = cipher.encrypt_and_digest(data)\n",
        "    return cipher.nonce, tag, ciphertext\n",
        "\n",
        "def decrypt_aes_gcm(nonce, tag, ciphertext, key):\n",
        "    \"\"\"Déchiffre des données avec AES en mode GCM.\"\"\"\n",
        "    try:\n",
        "        cipher = AES.new(key, AES.MODE_GCM, nonce=nonce)\n",
        "        decrypted_data = cipher.decrypt_and_verify(ciphertext, tag)\n",
        "        return decrypted_data\n",
        "    except (ValueError, KeyError):\n",
        "        return None\n",
        "\n",
        "print(\"Fonctions utilitaires définies.\")\n"
      ],
      "metadata": {
        "id": "KL83aDVyj4Sf"
      },
      "execution_count": null,
      "outputs": []
    },
    {
      "cell_type": "markdown",
      "source": [
        "**Étape 3 : Implémentation du Cœur de la Méthode CIH-QR**"
      ],
      "metadata": {
        "id": "Qse6PZFwj8F4"
      }
    },
    {
      "cell_type": "markdown",
      "source": [
        "C'est ici que nous codons la logique principale de notre méthode : le calcul du code de hachage de 4 bits pour chaque fragment."
      ],
      "metadata": {
        "id": "VlTCBdifj_NX"
      }
    },
    {
      "cell_type": "code",
      "source": [
        "# Bloc 4: Calcul du code de hachage CIH-QR\n",
        "\n",
        "def calculate_cih_qr_hash(fragment, full_image_iqr_avg, right_neighbor_median, bottom_neighbor_median):\n",
        "    \"\"\"Calcule le code de hachage de 4 bits pour un fragment d'image.\"\"\"\n",
        "    if fragment.size == 0:\n",
        "        return \"0000\"\n",
        "\n",
        "    # Calcul des caractéristiques statistiques robustes\n",
        "    q1, q2_median, q3 = np.percentile(fragment, [25, 50, 75])\n",
        "\n",
        "    # Bit 1: Asymétrie interne\n",
        "    b1 = '1' if (q3 - q2_median) > (q2_median - q1) else '0'\n",
        "\n",
        "    # Bit 2: Texture locale (basée sur l'écart interquartile)\n",
        "    iqr = q3 - q1\n",
        "    b2 = '1' if iqr > full_image_iqr_avg else '0'\n",
        "\n",
        "    # Bit 3: Relation de voisinage horizontal\n",
        "    b3 = '1' if q2_median > right_neighbor_median else '0'\n",
        "\n",
        "    # Bit 4: Relation de voisinage vertical\n",
        "    b4 = '1' if q2_median > bottom_neighbor_median else '0'\n",
        "\n",
        "    return f\"{b1}{b2}{b3}{b4}\"\n",
        "\n",
        "def generate_all_hashes_and_lookup_table(fragments, image_width, fragment_size):\n",
        "    \"\"\"Génère les hachages pour tous les fragments et la table de correspondance.\"\"\"\n",
        "    num_fragments = len(fragments)\n",
        "    cols = image_width // fragment_size\n",
        "\n",
        "    # Pré-calculer les médianes et IQRs de tous les fragments pour l'efficacité\n",
        "    all_stats = [np.percentile(f, [25, 50, 75]) for f in fragments]\n",
        "    all_medians = [s[1] for s in all_stats]\n",
        "    all_iqrs = [s[2] - s[0] for s in all_stats]\n",
        "    full_image_iqr_avg = np.mean(all_iqrs)\n",
        "\n",
        "    hashes = []\n",
        "    lookup_table = {f'{i:04b}': [] for i in range(16)}\n",
        "\n",
        "    for i in range(num_fragments):\n",
        "        # Gérer les voisins de manière circulaire (torique) pour les bords\n",
        "        current_row = i // cols\n",
        "        # Voisin de droite\n",
        "        right_neighbor_idx = current_row * cols + (i + 1) % cols\n",
        "        # Voisin du bas\n",
        "        bottom_neighbor_idx = (i + cols) % num_fragments\n",
        "\n",
        "        right_neighbor_median = all_medians[right_neighbor_idx]\n",
        "        bottom_neighbor_median = all_medians[bottom_neighbor_idx]\n",
        "\n",
        "        # Le fragment courant est le i-ème de la liste\n",
        "        current_fragment = fragments[i]\n",
        "\n",
        "        h = calculate_cih_qr_hash(current_fragment, full_image_iqr_avg, right_neighbor_median, bottom_neighbor_median)\n",
        "        hashes.append(h)\n",
        "        lookup_table[h].append(i)\n",
        "\n",
        "    return hashes, lookup_table\n",
        "\n",
        "print(\"Fonction de hachage CIH-QR définie.\")\n"
      ],
      "metadata": {
        "id": "PqR5LuY3kBPA"
      },
      "execution_count": null,
      "outputs": []
    },
    {
      "cell_type": "markdown",
      "source": [
        "**Étape 4 : Phase de Dissimulation (Encodeur CIH-QR)**"
      ],
      "metadata": {
        "id": "4wdKuV6AkDfP"
      }
    },
    {
      "cell_type": "markdown",
      "source": [
        "Nous assemblons maintenant toutes les fonctions pour créer le processus complet de dissimulation."
      ],
      "metadata": {
        "id": "2axouMXzkHYA"
      }
    },
    {
      "cell_type": "code",
      "source": [
        "# Bloc 5: Encodeur CIH-QR\n",
        "\n",
        "def hide_message_cih_qr(image, secret_message, fragment_size, aes_key):\n",
        "    \"\"\"Dissimule un message dans une image en utilisant la méthode CIH-QR.\"\"\"\n",
        "    # 1. Préparation\n",
        "    fragments = split_image_into_fragments(image, fragment_size)\n",
        "    message_binary = ''.join(f'{ord(c):08b}' for c in secret_message)\n",
        "\n",
        "    # S'assurer que le message binaire est un multiple de 4 (taille de nos hachages)\n",
        "    if len(message_binary) % 4 != 0:\n",
        "        padding = '0' * (4 - len(message_binary) % 4)\n",
        "        message_binary += padding\n",
        "\n",
        "    # 2. Génération des hachages et de la table\n",
        "    _, lookup_table = generate_all_hashes_and_lookup_table(fragments, image.shape[1], fragment_size)\n",
        "\n",
        "    print(\"Distribution des hachages générés :\")\n",
        "    for h_val, indices in sorted(lookup_table.items()):\n",
        "        print(f\"  - Hachage '{h_val}': {len(indices)} fragments disponibles\")\n",
        "\n",
        "    # 3. Mise en correspondance\n",
        "    location_indices = []\n",
        "    used_indices = set()\n",
        "\n",
        "    for i in range(0, len(message_binary), 4):\n",
        "        segment = message_binary[i:i+4]\n",
        "\n",
        "        if segment not in lookup_table or not lookup_table[segment]:\n",
        "            print(f\"ERREUR: Aucun fragment disponible pour le hachage '{segment}'.\")\n",
        "            return None, None\n",
        "\n",
        "        found_index = -1\n",
        "        for index in lookup_table[segment]:\n",
        "            if index not in used_indices:\n",
        "                found_index = index\n",
        "                break\n",
        "\n",
        "        if found_index == -1:\n",
        "            print(f\"ERREUR: Capacité insuffisante. Pas assez de blocs uniques pour le segment '{segment}'.\")\n",
        "            return None, None\n",
        "\n",
        "        location_indices.append(found_index)\n",
        "        used_indices.add(found_index)\n",
        "\n",
        "    # 4. Sécurisation\n",
        "    location_data_bytes = pickle.dumps(location_indices)\n",
        "    encrypted_loc_file = encrypt_aes_gcm(location_data_bytes, aes_key)\n",
        "\n",
        "    print(f\"\\nMessage dissimulé avec succès ! {len(location_indices)} fragments utilisés.\")\n",
        "    return image, encrypted_loc_file\n",
        "\n",
        "print(\"Encodeur CIH-QR défini.\")\n"
      ],
      "metadata": {
        "id": "-LvwCPzgkJdp"
      },
      "execution_count": null,
      "outputs": []
    },
    {
      "cell_type": "markdown",
      "source": [
        "**Étape 5 : Phase d'Extraction (Décodeur CIH-QR)**"
      ],
      "metadata": {
        "id": "Kjg-0vbOkSG3"
      }
    },
    {
      "cell_type": "markdown",
      "source": [
        "Nous implémentons le processus inverse pour extraire le message."
      ],
      "metadata": {
        "id": "78exrFDRkVD4"
      }
    },
    {
      "cell_type": "code",
      "source": [
        "# Bloc 6: Décodeur CIH-QR\n",
        "\n",
        "def extract_message_cih_qr(image, encrypted_loc_file, fragment_size, aes_key):\n",
        "    \"\"\"Extrait un message d'une image en utilisant la méthode CIH-QR.\"\"\"\n",
        "    # 1. Déchiffrement\n",
        "    nonce, tag, ciphertext = encrypted_loc_file\n",
        "    decrypted_loc_bytes = decrypt_aes_gcm(nonce, tag, ciphertext, aes_key)\n",
        "\n",
        "    if decrypted_loc_bytes is None:\n",
        "        return \"ERREUR: Échec du déchiffrement.\"\n",
        "\n",
        "    location_indices = pickle.loads(decrypted_loc_bytes)\n",
        "\n",
        "    # 2. Régénération des hachages\n",
        "    fragments = split_image_into_fragments(image, fragment_size)\n",
        "    all_hashes, _ = generate_all_hashes_and_lookup_table(fragments, image.shape[1], fragment_size)\n",
        "\n",
        "    # 3. Reconstruction\n",
        "    extracted_binary = \"\"\n",
        "    for index in location_indices:\n",
        "        if index < len(all_hashes):\n",
        "            extracted_binary += all_hashes[index]\n",
        "        else:\n",
        "            extracted_binary += \"????\" # Erreur, l'indice est hors limites\n",
        "\n",
        "    # 4. Conversion du binaire en texte\n",
        "    secret_message = \"\"\n",
        "    for i in range(0, len(extracted_binary), 8):\n",
        "        byte = extracted_binary[i:i+8]\n",
        "        if len(byte) == 8:\n",
        "            try:\n",
        "                secret_message += chr(int(byte, 2))\n",
        "            except ValueError:\n",
        "                secret_message += '?'\n",
        "\n",
        "    return secret_message.strip('\\x00') # Retirer les caractères nuls du padding\n",
        "\n",
        "print(\"Décodeur CIH-QR défini.\")\n"
      ],
      "metadata": {
        "id": "bL_jrD_DkXTA"
      },
      "execution_count": null,
      "outputs": []
    },
    {
      "cell_type": "markdown",
      "source": [
        "**Étape 6 : Exécution du Cycle Complet**"
      ],
      "metadata": {
        "id": "hO6B_VuakbeX"
      }
    },
    {
      "cell_type": "markdown",
      "source": [
        "Mettons notre méthode à l'épreuve en exécutant un cycle complet de dissimulation et d'extraction, incluant un test de robustesse."
      ],
      "metadata": {
        "id": "vBcFivt1kdEQ"
      }
    },
    {
      "cell_type": "code",
      "source": [
        "# Bloc 7: Exécution du cycle complet CIH-QR\n",
        "\n",
        "# --- Paramètres ---\n",
        "FRAGMENT_SIZE = 8\n",
        "SECRET_MESSAGE = \"Test de la methode CIH-QR, basee sur les quantiles et les relations de voisinage.\"\n",
        "AES_KEY = get_random_bytes(16)\n",
        "\n",
        "# --- PHASE DE DISSIMULATION ---\n",
        "print(\"--- DÉBUT DE LA PHASE DE DISSIMULATION CIH-QR ---\")\n",
        "stego_image_cihqr, encrypted_data_cihqr = hide_message_cih_qr(\n",
        "    img, SECRET_MESSAGE, FRAGMENT_SIZE, AES_KEY\n",
        ")\n",
        "\n",
        "# --- PHASE D'EXTRACTION ---\n",
        "if stego_image_cihqr is not None:\n",
        "    print(\"\\n--- DÉBUT DE LA PHASE D'EXTRACTION CIH-QR ---\")\n",
        "\n",
        "    # Test 1: Extraction depuis l'image non altérée\n",
        "    extracted_message_cihqr = extract_message_cih_qr(\n",
        "        stego_image_cihqr, encrypted_data_cihqr, FRAGMENT_SIZE, AES_KEY\n",
        "    )\n",
        "\n",
        "    print(\"\\n--- RÉSULTATS ---\")\n",
        "    print(f\"Message Original : '{SECRET_MESSAGE}'\")\n",
        "    print(f\"Message Extrait  : '{extracted_message_cihqr}'\")\n",
        "\n",
        "    if SECRET_MESSAGE == extracted_message_cihqr:\n",
        "        print(\"\\nSUCCÈS : Le message a été extrait correctement de l'image non altérée !\")\n",
        "    else:\n",
        "        print(\"\\nÉCHEC : Le message extrait ne correspond pas.\")\n",
        "\n",
        "    # Test 2: Extraction depuis une image attaquée (Bruit Sel & Poivre)\n",
        "    print(\"\\n--- TEST DE ROBUSTESSE (BRUIT SEL & POIVRE) ---\")\n",
        "\n",
        "    attacked_image = img.copy()\n",
        "    noise_amount = 0.01\n",
        "    # Utiliser la fonction de scikit-image pour un bruit plus réaliste\n",
        "    from skimage.util import random_noise\n",
        "    attacked_image = (random_noise(attacked_image, mode='s&p', amount=noise_amount) * 255).astype(np.uint8)\n",
        "\n",
        "    plt.imshow(attacked_image, cmap='gray')\n",
        "    plt.title(f\"Image après Attaque Sel & Poivre ({noise_amount*100}%)\")\n",
        "    plt.axis('off')\n",
        "    plt.show()\n",
        "\n",
        "    # Tenter d'extraire le message de l'image attaquée\n",
        "    extracted_message_attacked = extract_message_cih_qr(\n",
        "        attacked_image, encrypted_data_cihqr, FRAGMENT_SIZE, AES_KEY\n",
        "    )\n",
        "    print(f\"\\nMessage Extrait après Attaque : '{extracted_message_attacked}'\")\n",
        "\n",
        "    # Calcul du BER\n",
        "    original_bits = ''.join(f'{ord(c):08b}' for c in SECRET_MESSAGE)\n",
        "    extracted_bits = ''.join(f'{ord(c):08b}' for c in extracted_message_attacked)\n",
        "    errors = sum(1 for i in range(min(len(original_bits), len(extracted_bits))) if original_bits[i] != extracted_bits[i])\n",
        "    errors += abs(len(original_bits) - len(extracted_bits))\n",
        "    ber = (errors / len(original_bits)) * 100 if original_bits else 0\n",
        "    print(f\"Taux d'Erreur Binaire (BER) après attaque : {ber:.2f}%\")\n"
      ],
      "metadata": {
        "id": "if-fyef0ke_A"
      },
      "execution_count": null,
      "outputs": []
    },
    {
      "cell_type": "markdown",
      "source": [
        "## **TEST COMPLET DE LA METHODE CIH-QR**"
      ],
      "metadata": {
        "id": "yrPNshkrlbZ4"
      }
    },
    {
      "cell_type": "markdown",
      "source": [
        "Ce notebook a pour objectif de réaliser une évaluation exhaustive de notre méthode de stéganographie CIH-QR en la soumettant à une série de tests fonctionnels, de robustesse, de capacité et de performance."
      ],
      "metadata": {
        "id": "2Ymo9FVKlnmA"
      }
    },
    {
      "cell_type": "markdown",
      "source": [
        "**Étape 0 : Configuration et Implémentation de la Méthode CIH-QR**"
      ],
      "metadata": {
        "id": "QQUa9RtZl22o"
      }
    },
    {
      "cell_type": "markdown",
      "source": [
        "Nous allons d'abord réutiliser le code d'implémentation de la méthode CIH-QR que nous avons développé précédemment."
      ],
      "metadata": {
        "id": "v9eFFzT7l74-"
      }
    },
    {
      "cell_type": "code",
      "source": [
        "# Bloc 1: Installation, importations et téléchargement de l'image\n",
        "!pip install scikit-image opencv-python numpy matplotlib pycryptodome\n",
        "import cv2\n",
        "import numpy as np\n",
        "import os\n",
        "import matplotlib.pyplot as plt\n",
        "import pickle\n",
        "import time\n",
        "from skimage.transform import rotate, rescale\n",
        "from skimage.util import random_noise\n",
        "from skimage.exposure import adjust_gamma, equalize_hist\n",
        "import json\n",
        "from datetime import datetime\n",
        "\n",
        "# Télécharger et préparer l'image\n",
        "!wget https://upload.wikimedia.org/wikipedia/en/7/7d/Lenna_%28test_image%29.png -O lenna.png\n",
        "IMG_SIZE = 512\n",
        "BASE_IMAGE = cv2.imread('lenna.png', cv2.IMREAD_GRAYSCALE )\n",
        "BASE_IMAGE = cv2.resize(BASE_IMAGE, (IMG_SIZE, IMG_SIZE))\n",
        "\n",
        "print(\"Environnement prêt.\")\n",
        "\n",
        "# Bloc 2: Code complet de la méthode CIH-QR (regroupé pour la clarté)\n",
        "\n",
        "# --- Fonctions Utilitaires ---\n",
        "def split_image_into_fragments(image, fragment_size):\n",
        "    h, w = image.shape\n",
        "    fragments = []\n",
        "    for y in range(0, h, fragment_size):\n",
        "        for x in range(0, w, fragment_size):\n",
        "            if y + fragment_size <= h and x + fragment_size <= w:\n",
        "                fragments.append(image[y:y+fragment_size, x:x+fragment_size])\n",
        "    return fragments\n",
        "\n",
        "def encrypt_aes_gcm(data, key):\n",
        "    cipher = AES.new(key, AES.MODE_GCM)\n",
        "    ciphertext, tag = cipher.encrypt_and_digest(data)\n",
        "    return cipher.nonce, tag, ciphertext\n",
        "\n",
        "def decrypt_aes_gcm(nonce, tag, ciphertext, key):\n",
        "    try:\n",
        "        cipher = AES.new(key, AES.MODE_GCM, nonce=nonce)\n",
        "        return cipher.decrypt_and_verify(ciphertext, tag)\n",
        "    except (ValueError, KeyError):\n",
        "        return None\n",
        "\n",
        "# --- Cœur de la méthode CIH-QR ---\n",
        "def calculate_cih_qr_hash(fragment, full_image_iqr_avg, right_neighbor_median, bottom_neighbor_median):\n",
        "    if fragment.size == 0: return \"0000\"\n",
        "    q1, q2_median, q3 = np.percentile(fragment, [25, 50, 75])\n",
        "    b1 = '1' if (q3 - q2_median) > (q2_median - q1) else '0'\n",
        "    iqr = q3 - q1\n",
        "    b2 = '1' if iqr > full_image_iqr_avg else '0'\n",
        "    b3 = '1' if q2_median > right_neighbor_median else '0'\n",
        "    b4 = '1' if q2_median > bottom_neighbor_median else '0'\n",
        "    return f\"{b1}{b2}{b3}{b4}\"\n",
        "\n",
        "def generate_all_hashes_and_lookup_table(fragments, image_width, fragment_size):\n",
        "    num_fragments = len(fragments)\n",
        "    cols = image_width // fragment_size\n",
        "    all_stats = [np.percentile(f, [25, 50, 75]) for f in fragments]\n",
        "    all_medians = [s[1] for s in all_stats]\n",
        "    all_iqrs = [s[2] - s[0] for s in all_stats]\n",
        "    full_image_iqr_avg = np.mean(all_iqrs) if all_iqrs else 0\n",
        "    hashes, lookup_table = [], {f'{i:04b}': [] for i in range(16)}\n",
        "    for i in range(num_fragments):\n",
        "        current_row = i // cols\n",
        "        right_neighbor_idx = current_row * cols + (i + 1) % cols\n",
        "        bottom_neighbor_idx = (i + cols) % num_fragments\n",
        "        h = calculate_cih_qr_hash(fragments[i], full_image_iqr_avg, all_medians[right_neighbor_idx], all_medians[bottom_neighbor_idx])\n",
        "        hashes.append(h)\n",
        "        lookup_table[h].append(i)\n",
        "    return hashes, lookup_table\n",
        "\n",
        "# --- Fonctions Encodeur/Décodeur ---\n",
        "def hide_message_cih_qr(image, secret_message, fragment_size, aes_key):\n",
        "    fragments = split_image_into_fragments(image, fragment_size)\n",
        "    message_binary = ''.join(f'{ord(c):08b}' for c in secret_message)\n",
        "    if len(message_binary) % 4 != 0:\n",
        "        message_binary += '0' * (4 - len(message_binary) % 4)\n",
        "    _, lookup_table = generate_all_hashes_and_lookup_table(fragments, image.shape[1], fragment_size)\n",
        "    location_indices, used_indices = [], set()\n",
        "    for i in range(0, len(message_binary), 4):\n",
        "        segment = message_binary[i:i+4]\n",
        "        if not lookup_table.get(segment): return None, None, f\"No fragments for hash {segment}\"\n",
        "        found_index = -1\n",
        "        for index in lookup_table[segment]:\n",
        "            if index not in used_indices:\n",
        "                found_index = index\n",
        "                break\n",
        "        if found_index == -1: return None, None, f\"Capacity issue for hash {segment}\"\n",
        "        location_indices.append(found_index)\n",
        "        used_indices.add(found_index)\n",
        "    location_data_bytes = pickle.dumps(location_indices)\n",
        "    encrypted_loc_file = encrypt_aes_gcm(location_data_bytes, aes_key)\n",
        "    return image, encrypted_loc_file, \"Success\"\n",
        "\n",
        "def extract_message_cih_qr(image, encrypted_loc_file, fragment_size, aes_key):\n",
        "    if not encrypted_loc_file: return None\n",
        "    nonce, tag, ciphertext = encrypted_loc_file\n",
        "    decrypted_loc_bytes = decrypt_aes_gcm(nonce, tag, ciphertext, aes_key)\n",
        "    if decrypted_loc_bytes is None: return None\n",
        "    location_indices = pickle.loads(decrypted_loc_bytes)\n",
        "    fragments = split_image_into_fragments(image, fragment_size)\n",
        "    all_hashes, _ = generate_all_hashes_and_lookup_table(fragments, image.shape[1], fragment_size)\n",
        "    extracted_binary = \"\"\n",
        "    for index in location_indices:\n",
        "        if index < len(all_hashes):\n",
        "            extracted_binary += all_hashes[index]\n",
        "        else:\n",
        "            extracted_binary += \"????\"\n",
        "    secret_message = \"\"\n",
        "    for i in range(0, len(extracted_binary), 8):\n",
        "        byte = extracted_binary[i:i+8]\n",
        "        if len(byte) == 8:\n",
        "            try: secret_message += chr(int(byte, 2))\n",
        "            except ValueError: secret_message += '?'\n",
        "    return secret_message.strip('\\x00')\n",
        "\n",
        "print(\"Implémentation de la méthode CIH-QR prête.\")\n"
      ],
      "metadata": {
        "id": "uYlzVdu9mDr3"
      },
      "execution_count": null,
      "outputs": []
    },
    {
      "cell_type": "markdown",
      "source": [
        "**Étape 1 : Définition de la Suite de Tests**"
      ],
      "metadata": {
        "id": "GAYJntesmMxu"
      }
    },
    {
      "cell_type": "markdown",
      "source": [
        "Nous réutilisons la même structure de test que pour les méthodes précédentes, en l'adaptant pour CIH-QR."
      ],
      "metadata": {
        "id": "hiZQCDJYmPtQ"
      }
    },
    {
      "cell_type": "code",
      "source": [
        "# Bloc 3: Fonctions de la suite de tests pour CIH-QR\n",
        "\n",
        "# --- Paramètres globaux pour les tests ---\n",
        "FRAGMENT_SIZE = 8\n",
        "AES_KEY = get_random_bytes(16)\n",
        "results = {}\n",
        "\n",
        "def calculate_ber(original_msg, extracted_msg):\n",
        "    \"\"\"Calcule le Bit Error Rate (BER).\"\"\"\n",
        "    if not extracted_msg: return 100.0\n",
        "    original_bits = ''.join(f'{ord(c):08b}' for c in original_msg)\n",
        "    extracted_bits = ''.join(f'{ord(c):08b}' for c in extracted_msg)\n",
        "    errors = 0\n",
        "    min_len = min(len(original_bits), len(extracted_bits))\n",
        "    errors += sum(1 for i in range(min_len) if original_bits[i] != extracted_bits[i])\n",
        "    errors += abs(len(original_bits) - len(extracted_bits))\n",
        "    return (errors / len(original_bits)) * 100 if len(original_bits) > 0 else 0\n",
        "\n",
        "def run_single_test_cihqr(message, attacked_image):\n",
        "    \"\"\"Exécute un cycle de dissimulation/extraction sur une image pour CIH-QR.\"\"\"\n",
        "    _, encrypted_data, status = hide_message_cih_qr(BASE_IMAGE, message, FRAGMENT_SIZE, AES_KEY)\n",
        "    if status != \"Success\":\n",
        "        return 100.0\n",
        "    extracted_msg = extract_message_cih_qr(attacked_image, encrypted_data, FRAGMENT_SIZE, AES_KEY)\n",
        "    return calculate_ber(message, extracted_msg)\n",
        "\n",
        "# --- Définitions des tests ---\n",
        "\n",
        "def test_functional():\n",
        "    print(\"\\n1. TEST FONCTIONNEL DE BASE\")\n",
        "    messages = [\"A\", \"Test CIH-QR\", \"Message de test un peu plus long pour la methode\", \"Message beaucoup plus long pour verifier la capacite de base et la robustesse fonctionnelle de l'implementation complete.\"]\n",
        "    success_count = 0\n",
        "    results['functional'] = []\n",
        "    for i, msg in enumerate(messages):\n",
        "        ber = run_single_test_cihqr(msg, BASE_IMAGE.copy())\n",
        "        status = \"SUCCÈS\" if ber == 0.0 else \"ÉCHEC\"\n",
        "        if status == \"SUCCÈS\": success_count += 1\n",
        "        print(f\"  Message {i+1}: {len(msg)} chars -> {status}\")\n",
        "        results['functional'].append({'message_length': len(msg), 'status': status})\n",
        "    print(f\"  Taux de réussite: {success_count / len(messages) * 100:.1f}%\")\n",
        "\n",
        "def test_jpeg_robustness():\n",
        "    print(\"\\n2. TEST ROBUSTESSE JPEG\")\n",
        "    message = \"Test JPEG\"\n",
        "    results['jpeg'] = []\n",
        "    for quality in [95, 80, 70, 50, 30]:\n",
        "        _, buffer = cv2.imencode('.jpg', BASE_IMAGE, [int(cv2.IMWRITE_JPEG_QUALITY), quality])\n",
        "        attacked_image = cv2.imdecode(buffer, cv2.IMREAD_GRAYSCALE)\n",
        "        ber = run_single_test_cihqr(message, attacked_image)\n",
        "        print(f\"  Qualité {quality}: BER={ber:.2f}%\")\n",
        "        results['jpeg'].append({'quality': quality, 'ber': ber})\n",
        "\n",
        "def test_noise_robustness():\n",
        "    print(\"\\n3. TESTS DE BRUIT\")\n",
        "    message = \"Test Bruit\"\n",
        "    results['noise'] = []\n",
        "    # Bruit Gaussien\n",
        "    for sigma in [0.005, 0.01, 0.02, 0.05]:\n",
        "        attacked_image = (random_noise(BASE_IMAGE, mode='gaussian', var=sigma) * 255).astype(np.uint8)\n",
        "        ber = run_single_test_cihqr(message, attacked_image)\n",
        "        print(f\"  Bruit Gaussien σ²={sigma}: BER={ber:.2f}%\")\n",
        "        results['noise'].append({'type': 'gaussian', 'sigma_sq': sigma, 'ber': ber})\n",
        "    # Bruit Sel & Poivre\n",
        "    for amount in [0.01, 0.03, 0.05, 0.1]:\n",
        "        attacked_image = (random_noise(BASE_IMAGE, mode='s&p', amount=amount) * 255).astype(np.uint8)\n",
        "        ber = run_single_test_cihqr(message, attacked_image)\n",
        "        print(f\"  Sel & Poivre {amount*100:.0f}%: BER={ber:.2f}%\")\n",
        "        results['noise'].append({'type': 's&p', 'amount': amount, 'ber': ber})\n",
        "\n",
        "def test_filtering_robustness():\n",
        "    print(\"\\n4. TESTS DE FILTRAGE\")\n",
        "    message = \"Test Filtre\"\n",
        "    results['filtering'] = []\n",
        "    # Flou Gaussien\n",
        "    for k in [3, 5, 7, 9]:\n",
        "        attacked_image = cv2.GaussianBlur(BASE_IMAGE, (k, k), 0)\n",
        "        ber = run_single_test_cihqr(message, attacked_image)\n",
        "        print(f\"  Flou Gaussien {k}x{k}: BER={ber:.2f}%\")\n",
        "        results['filtering'].append({'type': 'gaussian_blur', 'kernel': k, 'ber': ber})\n",
        "    # Flou Médian\n",
        "    for k in [3, 5, 7]:\n",
        "        attacked_image = cv2.medianBlur(BASE_IMAGE, k)\n",
        "        ber = run_single_test_cihqr(message, attacked_image)\n",
        "        print(f\"  Flou Médian {k}x{k}: BER={ber:.2f}%\")\n",
        "        results['filtering'].append({'type': 'median_blur', 'kernel': k, 'ber': ber})\n",
        "\n",
        "def test_geometric_robustness():\n",
        "    print(\"\\n5. TESTS GÉOMÉTRIQUES\")\n",
        "    message = \"Test Geo\"\n",
        "    results['geometric'] = []\n",
        "    # Rotation\n",
        "    for angle in [0.5, 1, 2, 5]:\n",
        "        attacked_image = (rotate(BASE_IMAGE, angle, resize=False, preserve_range=True)).astype(np.uint8)\n",
        "        ber = run_single_test_cihqr(message, attacked_image)\n",
        "        print(f\"  Rotation {angle}°: BER={ber:.2f}%\")\n",
        "        results['geometric'].append({'type': 'rotation', 'angle': angle, 'ber': ber})\n",
        "    # Scaling\n",
        "    for scale in [0.9, 1.1, 0.8, 1.2]:\n",
        "        h, w = BASE_IMAGE.shape\n",
        "        attacked_image = rescale(BASE_IMAGE, scale, preserve_range=True).astype(np.uint8)\n",
        "        nh, nw = attacked_image.shape\n",
        "        if scale < 1.0:\n",
        "            pad_h, pad_w = (h - nh) // 2, (w - nw) // 2\n",
        "            attacked_image = np.pad(attacked_image, ((pad_h, h-nh-pad_h), (pad_w, w-nw-pad_w)), 'constant')\n",
        "        else:\n",
        "            crop_h, crop_w = (nh - h) // 2, (nw - w) // 2\n",
        "            attacked_image = attacked_image[crop_h:crop_h+h, crop_w:crop_w+w]\n",
        "        ber = run_single_test_cihqr(message, attacked_image)\n",
        "        print(f\"  Scaling {scale}: BER={ber:.2f}%\")\n",
        "        results['geometric'].append({'type': 'scaling', 'scale': scale, 'ber': ber})\n",
        "\n",
        "def test_contrast_luminance():\n",
        "    print(\"\\n6. TESTS CONTRASTE/LUMINOSITÉ\")\n",
        "    message = \"Test Contraste\"\n",
        "    results['contrast'] = []\n",
        "    # Correction Gamma\n",
        "    for gamma in [0.7, 0.8, 1.2, 1.5]:\n",
        "        attacked_image = (adjust_gamma(BASE_IMAGE, gamma) * 255).astype(np.uint8)\n",
        "        ber = run_single_test_cihqr(message, attacked_image)\n",
        "        print(f\"  Gamma {gamma}: BER={ber:.2f}%\")\n",
        "        results['contrast'].append({'type': 'gamma', 'value': gamma, 'ber': ber})\n",
        "    # Luminosité\n",
        "    for val in [-30, -15, 15, 30]:\n",
        "        attacked_image = cv2.add(BASE_IMAGE, val)\n",
        "        attacked_image[BASE_IMAGE < abs(val) if val < 0 else BASE_IMAGE > 255-val] = 0 if val < 0 else 255\n",
        "        ber = run_single_test_cihqr(message, attacked_image)\n",
        "        print(f\"  Luminosité {val}: BER={ber:.2f}%\")\n",
        "        results['contrast'].append({'type': 'brightness', 'value': val, 'ber': ber})\n",
        "    # Égalisation d'histogramme\n",
        "    attacked_image = equalize_hist(BASE_IMAGE)\n",
        "    ber = run_single_test_cihqr(message, attacked_image)\n",
        "    print(f\"  Égalisation histogramme: BER={ber:.2f}%\")\n",
        "    results['contrast'].append({'type': 'hist_equalization', 'ber': ber})\n",
        "\n",
        "def test_capacity():\n",
        "    print(\"\\n7. TEST DE CAPACITÉ\")\n",
        "    results['capacity'] = {}\n",
        "    fragments = split_image_into_fragments(BASE_IMAGE, FRAGMENT_SIZE)\n",
        "    total_fragments = len(fragments)\n",
        "    print(f\"  Fragments totaux ({FRAGMENT_SIZE}x{FRAGMENT_SIZE}): {total_fragments}\")\n",
        "    results['capacity']['total_fragments'] = total_fragments\n",
        "\n",
        "    capacity_bits = total_fragments * 4\n",
        "    capacity_bytes = capacity_bits // 8\n",
        "    print(f\"  Capacité théorique: {capacity_bits} bits ({capacity_bytes} bytes)\")\n",
        "    results['capacity']['theoretical_bits'] = capacity_bits\n",
        "\n",
        "    print(\"  Distribution des hachages:\")\n",
        "    _, lookup_table = generate_all_hashes_and_lookup_table(fragments, BASE_IMAGE.shape[1], FRAGMENT_SIZE)\n",
        "    results['capacity']['hash_distribution'] = {h: len(indices) for h, indices in lookup_table.items()}\n",
        "    for h, count in sorted(results['capacity']['hash_distribution'].items()):\n",
        "        print(f\"    {h}: {count} fragments\")\n",
        "\n",
        "def test_performance():\n",
        "    print(\"\\n8. TESTS DE PERFORMANCE\")\n",
        "    message = \"Test de performance avec un message de taille raisonnable pour la methode CIH-QR.\"\n",
        "    results['performance'] = {}\n",
        "\n",
        "    start_time = time.time()\n",
        "    _, _, _ = hide_message_cih_qr(BASE_IMAGE, message, FRAGMENT_SIZE, AES_KEY)\n",
        "    end_time = time.time()\n",
        "    dissimulation_time = (end_time - start_time) * 1000\n",
        "    print(f\"  Temps dissimulation: {dissimulation_time:.2f} ms\")\n",
        "    results['performance']['dissimulation_ms'] = dissimulation_time\n",
        "\n",
        "    _, encrypted_data, _ = hide_message_cih_qr(BASE_IMAGE, message, FRAGMENT_SIZE, AES_KEY)\n",
        "    start_time = time.time()\n",
        "    _ = extract_message_cih_qr(BASE_IMAGE, encrypted_data, FRAGMENT_SIZE, AES_KEY)\n",
        "    end_time = time.time()\n",
        "    extraction_time = (end_time - start_time) * 1000\n",
        "    print(f\"  Temps extraction: {extraction_time:.2f} ms\")\n",
        "    results['performance']['extraction_ms'] = extraction_time\n",
        "\n",
        "    debit = len(message) / (dissimulation_time / 1000)\n",
        "    print(f\"  Débit (dissimulation): {debit:.2f} chars/sec\")\n",
        "    results['performance']['throughput_chars_sec'] = debit\n",
        "\n",
        "def test_security():\n",
        "    print(\"\\n9. TESTS DE SÉCURITÉ\")\n",
        "    message = \"Test Securite\"\n",
        "    results['security'] = []\n",
        "\n",
        "    _, encrypted_data, _ = hide_message_cih_qr(BASE_IMAGE, message, FRAGMENT_SIZE, AES_KEY)\n",
        "\n",
        "    # Bonne clé\n",
        "    extracted_msg = extract_message_cih_qr(BASE_IMAGE, encrypted_data, FRAGMENT_SIZE, AES_KEY)\n",
        "    status_good_key = \"SUCCÈS\" if message == extracted_msg else \"ÉCHEC\"\n",
        "    print(f\"  Bonne clé: {status_good_key}\")\n",
        "    results['security'].append({'key': 'correct', 'status': status_good_key})\n",
        "\n",
        "    # Mauvaise clé\n",
        "    wrong_key = get_random_bytes(16)\n",
        "    extracted_msg_wrong = extract_message_cih_qr(BASE_IMAGE, encrypted_data, FRAGMENT_SIZE, wrong_key)\n",
        "    status_wrong_key = \"ÉCHEC\" if extracted_msg_wrong is None else \"SUCCÈS (inattendu)\"\n",
        "    print(f\"  Mauvaise clé: {status_wrong_key}\")\n",
        "    results['security'].append({'key': 'wrong', 'status': status_wrong_key})\n",
        "\n",
        "print(\"Suite de tests pour CIH-QR définie.\")\n"
      ],
      "metadata": {
        "id": "JrSBaDRNmSXH"
      },
      "execution_count": null,
      "outputs": []
    },
    {
      "cell_type": "markdown",
      "source": [
        "**Étape 2 : Exécution de la Suite de Tests Complète**"
      ],
      "metadata": {
        "id": "MWH1y_iOmbGH"
      }
    },
    {
      "cell_type": "markdown",
      "source": [
        "Cette dernière cellule exécute tous les tests définis ci-dessus pour la méthode CIH-QR."
      ],
      "metadata": {
        "id": "zeix6_zTmiNm"
      }
    },
    {
      "cell_type": "code",
      "source": [
        "# Bloc 4: Exécution de tous les tests et sauvegarde des résultats\n",
        "\n",
        "print(\"============================================================\")\n",
        "print(\"       LANCEMENT DE LA SUITE DE TESTS POUR CIH-QR\")\n",
        "print(\"============================================================\")\n",
        "\n",
        "test_functional()\n",
        "test_jpeg_robustness()\n",
        "test_noise_robustness()\n",
        "test_filtering_robustness()\n",
        "test_geometric_robustness()\n",
        "test_contrast_luminance()\n",
        "test_capacity()\n",
        "test_performance()\n",
        "test_security()\n",
        "\n",
        "# --- Sauvegarde des résultats ---\n",
        "timestamp = datetime.now().strftime(\"%Y%m%d_%H%M%S\")\n",
        "filename = f\"cihqr_test_results_{timestamp}.json\"\n",
        "with open(filename, 'w') as f:\n",
        "    json.dump(results, f, indent=2)\n",
        "\n",
        "print(\"\\n============================================================\")\n",
        "print(\"                   RÉSUMÉ DES RÉSULTATS\")\n",
        "print(\"============================================================\")\n",
        "functional_success_rate = sum(1 for r in results['functional'] if r['status'] == 'SUCCÈS') / len(results['functional']) * 100\n",
        "print(f\"Taux de réussite fonctionnel: {functional_success_rate:.1f}%\")\n",
        "print(f\"Résultats sauvegardés dans: {filename}\")\n"
      ],
      "metadata": {
        "id": "NjiicyGxmkcc"
      },
      "execution_count": null,
      "outputs": []
    },
    {
      "cell_type": "markdown",
      "source": [
        "# **ANALYSE DES RESULTATS**"
      ],
      "metadata": {
        "id": "f_2y6JvHrLrx"
      }
    },
    {
      "cell_type": "markdown",
      "source": [
        "### **Analyse de Robustesse des Méthodes de Stéganographie**"
      ],
      "metadata": {
        "id": "p1w19hyosqN1"
      }
    },
    {
      "cell_type": "markdown",
      "source": [
        "**1. Robustesse à la Compression JPEG**"
      ],
      "metadata": {
        "id": "nP-5VSg4s2rV"
      }
    },
    {
      "cell_type": "code",
      "source": [
        "import matplotlib.pyplot as plt\n",
        "import numpy as np\n",
        "\n",
        "# Données pour la compression JPEG\n",
        "qualities = [95, 80, 70, 50, 30]\n",
        "e_ad_jpeg = [11.11, 19.44, 22.22, 23.61, 27.78]\n",
        "cihlhf_jpeg = [1.39, 1.39, 0.0, 1.39, 0.0]\n",
        "cih_qr_jpeg = [2.78, 6.94, 5.56, 5.56, 5.56]\n",
        "\n",
        "plt.figure(figsize=(10, 6))\n",
        "plt.plot(qualities, e_ad_jpeg, 'ro-', linewidth=2, markersize=8, label='E-AD')\n",
        "plt.plot(qualities, cihlhf_jpeg, 'bo-', linewidth=2, markersize=8, label='CIHLHF')\n",
        "plt.plot(qualities, cih_qr_jpeg, 'go-', linewidth=2, markersize=8, label='CIH-QR')\n",
        "plt.xlabel('Qualité JPEG')\n",
        "plt.ylabel('Taux d\\'erreur (BER %)')\n",
        "plt.title('Robustesse à la Compression JPEG')\n",
        "plt.legend()\n",
        "plt.grid(True, linestyle='--', alpha=0.7)\n",
        "plt.gca().invert_xaxis()  # Inverser l'axe x pour que la qualité diminue de gauche à droite\n",
        "plt.savefig('robustesse_jpeg.png', dpi=300, bbox_inches='tight')\n",
        "plt.show()"
      ],
      "metadata": {
        "id": "PPVzk-zIs3-V"
      },
      "execution_count": null,
      "outputs": []
    },
    {
      "cell_type": "markdown",
      "source": [
        "**2. Robustesse au Bruit**"
      ],
      "metadata": {
        "id": "xviqHKBCs9W1"
      }
    },
    {
      "cell_type": "code",
      "source": [
        "# Données pour le bruit gaussien\n",
        "sigma_sq = [0.005, 0.01, 0.02, 0.05]\n",
        "e_ad_gaussian = [100, 100, 100, 100]\n",
        "cihlhf_gaussian = [23.75, 31.25, 31.25, 35.0]\n",
        "cih_qr_gaussian = [23.75, 25.0, 31.25, 26.25]\n",
        "\n",
        "# Données pour le bruit poivre et sel\n",
        "snp_amount = [0.01, 0.03, 0.05, 0.1]\n",
        "e_ad_snp = [100, 100, 100, 100]\n",
        "cihlhf_snp = [12.5, 20.0, 26.25, 35.0]\n",
        "cih_qr_snp = [1.25, 6.25, 0.0, 5.0]\n",
        "\n",
        "fig, (ax1, ax2) = plt.subplots(1, 2, figsize=(15, 6))\n",
        "\n",
        "# Graphique bruit gaussien\n",
        "ax1.plot(sigma_sq, e_ad_gaussian, 'ro-', linewidth=2, markersize=8, label='E-AD')\n",
        "ax1.plot(sigma_sq, cihlhf_gaussian, 'bo-', linewidth=2, markersize=8, label='CIHLHF')\n",
        "ax1.plot(sigma_sq, cih_qr_gaussian, 'go-', linewidth=2, markersize=8, label='CIH-QR')\n",
        "ax1.set_xlabel('Variance du bruit (σ²)')\n",
        "ax1.set_ylabel('Taux d\\'erreur (BER %)')\n",
        "ax1.set_title('Robustesse au Bruit Gaussien')\n",
        "ax1.legend()\n",
        "ax1.grid(True, linestyle='--', alpha=0.7)\n",
        "\n",
        "# Graphique bruit poivre et sel\n",
        "ax2.plot(snp_amount, e_ad_snp, 'ro-', linewidth=2, markersize=8, label='E-AD')\n",
        "ax2.plot(snp_amount, cihlhf_snp, 'bo-', linewidth=2, markersize=8, label='CIHLHF')\n",
        "ax2.plot(snp_amount, cih_qr_snp, 'go-', linewidth=2, markersize=8, label='CIH-QR')\n",
        "ax2.set_xlabel('Quantité de bruit')\n",
        "ax2.set_ylabel('Taux d\\'erreur (BER %)')\n",
        "ax2.set_title('Robustesse au Bruit Poivre et Sel')\n",
        "ax2.legend()\n",
        "ax2.grid(True, linestyle='--', alpha=0.7)\n",
        "\n",
        "plt.tight_layout()\n",
        "plt.savefig('robustesse_bruit.png', dpi=300, bbox_inches='tight')\n",
        "plt.show()"
      ],
      "metadata": {
        "id": "PAwj1-ovtBFd"
      },
      "execution_count": null,
      "outputs": []
    },
    {
      "cell_type": "markdown",
      "source": [
        "**3. Robustesse au Filtrage**"
      ],
      "metadata": {
        "id": "7a4FXJqwtLSN"
      }
    },
    {
      "cell_type": "code",
      "source": [
        "# Données pour le filtrage gaussien\n",
        "gaussian_kernels = [3, 5, 7, 9]\n",
        "e_ad_gaussian = [100, 100, 100, 100]\n",
        "cihlhf_gaussian = [2.27, 3.41, 4.55, 4.55]\n",
        "cih_qr_gaussian = [7.95, 10.23, 6.82, 7.95]\n",
        "\n",
        "# Données pour le filtrage médian\n",
        "median_kernels = [3, 5, 7]\n",
        "e_ad_median = [100, 100, 100]\n",
        "cihlhf_median = [1.14, 3.41, 4.55]\n",
        "cih_qr_median = [6.82, 4.55, 9.09]\n",
        "\n",
        "fig, (ax1, ax2) = plt.subplots(1, 2, figsize=(15, 6))\n",
        "\n",
        "# Graphique filtrage gaussien\n",
        "ax1.plot(gaussian_kernels, e_ad_gaussian, 'ro-', linewidth=2, markersize=8, label='E-AD')\n",
        "ax1.plot(gaussian_kernels, cihlhf_gaussian, 'bo-', linewidth=2, markersize=8, label='CIHLHF')\n",
        "ax1.plot(gaussian_kernels, cih_qr_gaussian, 'go-', linewidth=2, markersize=8, label='CIH-QR')\n",
        "ax1.set_xlabel('Taille du noyau')\n",
        "ax1.set_ylabel('Taux d\\'erreur (BER %)')\n",
        "ax1.set_title('Robustesse au Filtrage Gaussien')\n",
        "ax1.legend()\n",
        "ax1.grid(True, linestyle='--', alpha=0.7)\n",
        "\n",
        "# Graphique filtrage médian\n",
        "ax2.plot(median_kernels, e_ad_median, 'ro-', linewidth=2, markersize=8, label='E-AD')\n",
        "ax2.plot(median_kernels, cihlhf_median, 'bo-', linewidth=2, markersize=8, label='CIHLHF')\n",
        "ax2.plot(median_kernels, cih_qr_median, 'go-', linewidth=2, markersize=8, label='CIH-QR')\n",
        "ax2.set_xlabel('Taille du noyau')\n",
        "ax2.set_ylabel('Taux d\\'erreur (BER %)')\n",
        "ax2.set_title('Robustesse au Filtrage Médian')\n",
        "ax2.legend()\n",
        "ax2.grid(True, linestyle='--', alpha=0.7)\n",
        "\n",
        "plt.tight_layout()\n",
        "plt.savefig('robustesse_filtrage.png', dpi=300, bbox_inches='tight')\n",
        "plt.show()"
      ],
      "metadata": {
        "id": "vcTcLtk0tMsF"
      },
      "execution_count": null,
      "outputs": []
    },
    {
      "cell_type": "markdown",
      "source": [
        "**4. Robustesse aux Transformations Géométriques**"
      ],
      "metadata": {
        "id": "dFRYFjhBtSmk"
      }
    },
    {
      "cell_type": "code",
      "source": [
        "# Données pour la rotation\n",
        "rotation_angles = [0.5, 1, 2, 5]\n",
        "e_ad_rotation = [25.0, 32.81, 43.75, 54.69]\n",
        "cihlhf_rotation = [3.13, 4.69, 12.5, 15.63]\n",
        "cih_qr_rotation = [23.44, 46.88, 50.0, 48.44]\n",
        "\n",
        "# Données pour le redimensionnement\n",
        "scaling_factors = [0.9, 1.1, 0.8, 1.2]\n",
        "e_ad_scaling = [48.44, 43.75, 48.44, 46.88]\n",
        "cihlhf_scaling = [20.31, 31.25, 34.38, 37.5]\n",
        "cih_qr_scaling = [95.31, 40.63, 100.0, 40.63]\n",
        "\n",
        "fig, (ax1, ax2) = plt.subplots(1, 2, figsize=(15, 6))\n",
        "\n",
        "# Graphique rotation\n",
        "ax1.plot(rotation_angles, e_ad_rotation, 'ro-', linewidth=2, markersize=8, label='E-AD')\n",
        "ax1.plot(rotation_angles, cihlhf_rotation, 'bo-', linewidth=2, markersize=8, label='CIHLHF')\n",
        "ax1.plot(rotation_angles, cih_qr_rotation, 'go-', linewidth=2, markersize=8, label='CIH-QR')\n",
        "ax1.set_xlabel('Angle de rotation (degrés)')\n",
        "ax1.set_ylabel('Taux d\\'erreur (BER %)')\n",
        "ax1.set_title('Robustesse à la Rotation')\n",
        "ax1.legend()\n",
        "ax1.grid(True, linestyle='--', alpha=0.7)\n",
        "\n",
        "# Graphique redimensionnement\n",
        "ax2.plot(scaling_factors, e_ad_scaling, 'ro-', linewidth=2, markersize=8, label='E-AD')\n",
        "ax2.plot(scaling_factors, cihlhf_scaling, 'bo-', linewidth=2, markersize=8, label='CIHLHF')\n",
        "ax2.plot(scaling_factors, cih_qr_scaling, 'go-', linewidth=2, markersize=8, label='CIH-QR')\n",
        "ax2.set_xlabel('Facteur d\\'échelle')\n",
        "ax2.set_ylabel('Taux d\\'erreur (BER %)')\n",
        "ax2.set_title('Robustesse au Redimensionnement')\n",
        "ax2.legend()\n",
        "ax2.grid(True, linestyle='--', alpha=0.7)\n",
        "\n",
        "plt.tight_layout()\n",
        "plt.savefig('robustesse_geometrique.png', dpi=300, bbox_inches='tight')\n",
        "plt.show()"
      ],
      "metadata": {
        "id": "6Uzh3DR8tVgl"
      },
      "execution_count": null,
      "outputs": []
    },
    {
      "cell_type": "markdown",
      "source": [
        "**5. Robustesse aux Modifications de Contraste**"
      ],
      "metadata": {
        "id": "DuY4PXmUtarM"
      }
    },
    {
      "cell_type": "code",
      "source": [
        "# Données pour les corrections gamma\n",
        "gamma_values = [0.7, 0.8, 1.2, 1.5]\n",
        "e_ad_gamma = [100, 100, 100, 100]\n",
        "cihlhf_gamma = [59.82, 63.39, 67.86, 55.36]\n",
        "cih_qr_gamma = [69.64, 67.86, 66.07, 69.64]\n",
        "\n",
        "# Données pour les modifications de luminosité\n",
        "brightness_values = [-30, -15, 15, 30]\n",
        "e_ad_brightness = [100, 100, 100, 100]\n",
        "cihlhf_brightness = [25.89, 5.36, 6.25, 14.29]\n",
        "cih_qr_brightness = [0.0, 0.0, 0.0, 0.0]\n",
        "\n",
        "# Données pour l'égalisation d'histogramme\n",
        "methods = ['E-AD', 'CIHLHF', 'CIH-QR']\n",
        "hist_eq = [100, 63.39, 8.04]\n",
        "\n",
        "fig, (ax1, ax2, ax3) = plt.subplots(1, 3, figsize=(18, 6))\n",
        "\n",
        "# Graphique corrections gamma\n",
        "ax1.plot(gamma_values, e_ad_gamma, 'ro-', linewidth=2, markersize=8, label='E-AD')\n",
        "ax1.plot(gamma_values, cihlhf_gamma, 'bo-', linewidth=2, markersize=8, label='CIHLHF')\n",
        "ax1.plot(gamma_values, cih_qr_gamma, 'go-', linewidth=2, markersize=8, label='CIH-QR')\n",
        "ax1.set_xlabel('Valeur gamma')\n",
        "ax1.set_ylabel('Taux d\\'erreur (BER %)')\n",
        "ax1.set_title('Robustesse aux Corrections Gamma')\n",
        "ax1.legend()\n",
        "ax1.grid(True, linestyle='--', alpha=0.7)\n",
        "\n",
        "# Graphique modifications de luminosité\n",
        "ax2.plot(brightness_values, e_ad_brightness, 'ro-', linewidth=2, markersize=8, label='E-AD')\n",
        "ax2.plot(brightness_values, cihlhf_brightness, 'bo-', linewidth=2, markersize=8, label='CIHLHF')\n",
        "ax2.plot(brightness_values, cih_qr_brightness, 'go-', linewidth=2, markersize=8, label='CIH-QR')\n",
        "ax2.set_xlabel('Modification de luminosité')\n",
        "ax2.set_ylabel('Taux d\\'erreur (BER %)')\n",
        "ax2.set_title('Robustesse aux Modifications de Luminosité')\n",
        "ax2.legend()\n",
        "ax2.grid(True, linestyle='--', alpha=0.7)\n",
        "\n",
        "# Graphique égalisation d'histogramme\n",
        "ax3.bar(methods, hist_eq, color=['red', 'blue', 'green'], alpha=0.7)\n",
        "ax3.set_ylabel('Taux d\\'erreur (BER %)')\n",
        "ax3.set_title('Robustesse à l\\'Égalisation d\\'Histogramme')\n",
        "ax3.grid(True, linestyle='--', alpha=0.7)\n",
        "\n",
        "plt.tight_layout()\n",
        "plt.savefig('robustesse_contraste.png', dpi=300, bbox_inches='tight')\n",
        "plt.show()"
      ],
      "metadata": {
        "id": "37PGoWSfteIF"
      },
      "execution_count": null,
      "outputs": []
    },
    {
      "cell_type": "markdown",
      "source": [
        "**6. Analyse Comparative Globale de Robustesse**"
      ],
      "metadata": {
        "id": "fvltb6actr3d"
      }
    },
    {
      "cell_type": "code",
      "source": [
        "# Calcul des scores moyens de robustesse par type d'attaque\n",
        "categories = ['JPEG', 'Bruit Gaussien', 'Bruit S&P', 'Filtrage Gaussien',\n",
        "              'Filtrage Médian', 'Rotation', 'Redimensionnement', 'Correction Gamma',\n",
        "              'Luminosité', 'Égalisation Hist.']\n",
        "\n",
        "# Scores moyens (0-10, 10 étant le meilleur)\n",
        "e_ad_scores = [2, 0, 0, 0, 0, 5, 4, 0, 0, 0]\n",
        "cihlhf_scores = [10, 7, 8, 9, 9, 9, 6, 4, 8, 4]\n",
        "cih_qr_scores = [8, 7, 9, 7, 7, 5, 3, 3, 10, 9]\n",
        "\n",
        "x = np.arange(len(categories))\n",
        "width = 0.25\n",
        "\n",
        "plt.figure(figsize=(16, 8))\n",
        "plt.bar(x - width, e_ad_scores, width, label='E-AD', color='red', alpha=0.7)\n",
        "plt.bar(x, cihlhf_scores, width, label='CIHLHF', color='blue', alpha=0.7)\n",
        "plt.bar(x + width, cih_qr_scores, width, label='CIH-QR', color='green', alpha=0.7)\n",
        "\n",
        "plt.xlabel('Type d\\'attaque')\n",
        "plt.ylabel('Score de robustesse (0-10)')\n",
        "plt.title('Score Global de Robustesse par Type d\\'Attaque')\n",
        "plt.xticks(x, categories, rotation=45, ha='right')\n",
        "plt.legend()\n",
        "plt.grid(True, linestyle='--', alpha=0.7, axis='y')\n",
        "plt.tight_layout()\n",
        "plt.savefig('score_global_robustesse.png', dpi=300, bbox_inches='tight')\n",
        "plt.show()\n",
        "\n",
        "# Calcul du score moyen global\n",
        "e_ad_mean = np.mean(e_ad_scores)\n",
        "cihlhf_mean = np.mean(cihlhf_scores)\n",
        "cih_qr_mean = np.mean(cih_qr_scores)\n",
        "\n",
        "print(f\"Score moyen de robustesse E-AD: {e_ad_mean:.2f}/10\")\n",
        "print(f\"Score moyen de robustesse CIHLHF: {cihlhf_mean:.2f}/10\")\n",
        "print(f\"Score moyen de robustesse CIH-QR: {cih_qr_mean:.2f}/10\")"
      ],
      "metadata": {
        "id": "6VzohYE_twC0"
      },
      "execution_count": null,
      "outputs": []
    },
    {
      "cell_type": "markdown",
      "source": [
        "**Analyse Graphique des Performances**"
      ],
      "metadata": {
        "id": "gaBtskpMrRVd"
      }
    },
    {
      "cell_type": "code",
      "source": [
        "import matplotlib.pyplot as plt\n",
        "import numpy as np\n",
        "\n",
        "# Configuration des graphiques\n",
        "plt.style.use('default')\n",
        "fig, ((ax1, ax2), (ax3, ax4)) = plt.subplots(2, 2, figsize=(15, 12))\n",
        "\n",
        "# Données pour les graphiques\n",
        "categories = ['JPEG', 'Bruit', 'Filtrage', 'Géométrique', 'Contraste']\n",
        "e_ad = [20, 100, 100, 40, 100]  # Valeurs moyennes approximatives\n",
        "cihlhf = [1, 25, 3, 20, 45]     # Valeurs moyennes approximatives\n",
        "cih_qr = [5, 15, 8, 50, 30]     # Valeurs moyennes approximatives\n",
        "\n",
        "x = np.arange(len(categories))\n",
        "width = 0.25\n",
        "\n",
        "# Graphique 1: Robustesse comparative (BER moyen)\n",
        "ax1.bar(x - width, e_ad, width, label='E-AD', color='red', alpha=0.7)\n",
        "ax1.bar(x, cihlhf, width, label='CIHLHF', color='blue', alpha=0.7)\n",
        "ax1.bar(x + width, cih_qr, width, label='CIH-QR', color='green', alpha=0.7)\n",
        "ax1.set_ylabel('Taux d\\'erreur (BER %)')\n",
        "ax1.set_title('Robustesse Comparative (BER moyen)')\n",
        "ax1.set_xticks(x)\n",
        "ax1.set_xticklabels(categories)\n",
        "ax1.legend()\n",
        "ax1.grid(axis='y', linestyle='--', alpha=0.7)\n",
        "\n",
        "# Graphique 2: Performances temporelles\n",
        "methods = ['E-AD', 'CIHLHF', 'CIH-QR']\n",
        "dissimulation = [3689, 35.5, 696.7]\n",
        "extraction = [0, 39, 646.6]  # E-AD n'a pas de mesure d'extraction\n",
        "\n",
        "ax2.bar(methods, dissimulation, color=['red', 'blue', 'green'], alpha=0.7, label='Dissimulation')\n",
        "ax2.bar(methods, extraction, bottom=dissimulation, color=['darkred', 'darkblue', 'darkgreen'],\n",
        "        alpha=0.7, label='Extraction')\n",
        "ax2.set_ylabel('Temps (ms) - échelle logarithmique')\n",
        "ax2.set_title('Performances Temporelles (échelle log)')\n",
        "ax2.set_yscale('log')\n",
        "ax2.legend()\n",
        "ax2.grid(axis='y', linestyle='--', alpha=0.7)\n",
        "\n",
        "# Graphique 3: Capacité de stockage\n",
        "capacity = [30752, 8192, 16384]\n",
        "colors = ['red', 'blue', 'green']\n",
        "ax3.bar(methods, capacity, color=colors, alpha=0.7)\n",
        "ax3.set_ylabel('Bits théoriques')\n",
        "ax3.set_title('Capacité de Stockage Théorique')\n",
        "ax3.grid(axis='y', linestyle='--', alpha=0.7)\n",
        "\n",
        "# Graphique 4: Score global comparatif\n",
        "scores = {\n",
        "    'Fonctionnalité': [2, 10, 10],\n",
        "    'Robustesse': [2, 8, 7],\n",
        "    'Capacité': [3, 6, 8],\n",
        "    'Performance': [2, 10, 6],\n",
        "    'Sécurité': [1, 8, 8]\n",
        "}\n",
        "\n",
        "categories = list(scores.keys())\n",
        "e_ad_scores = [scores[cat][0] for cat in categories]\n",
        "cihlhf_scores = [scores[cat][1] for cat in categories]\n",
        "cih_qr_scores = [scores[cat][2] for cat in categories]\n",
        "\n",
        "x = np.arange(len(categories))\n",
        "ax4.bar(x - width, e_ad_scores, width, label='E-AD', color='red', alpha=0.7)\n",
        "ax4.bar(x, cihlhf_scores, width, label='CIHLHF', color='blue', alpha=0.7)\n",
        "ax4.bar(x + width, cih_qr_scores, width, label='CIH-QR', color='green', alpha=0.7)\n",
        "ax4.set_ylabel('Score (0-10)')\n",
        "ax4.set_title('Score Global par Catégorie')\n",
        "ax4.set_xticks(x)\n",
        "ax4.set_xticklabels(categories, rotation=45)\n",
        "ax4.legend()\n",
        "ax4.grid(axis='y', linestyle='--', alpha=0.7)\n",
        "\n",
        "plt.tight_layout()\n",
        "plt.savefig('comparaison_steganographie.png', dpi=300, bbox_inches='tight')\n",
        "plt.show()"
      ],
      "metadata": {
        "id": "fGxVi7ECrT7e"
      },
      "execution_count": null,
      "outputs": []
    },
    {
      "cell_type": "markdown",
      "source": [
        "**Diagramme Radar des Performances**"
      ],
      "metadata": {
        "id": "QsfCagyjrpU9"
      }
    },
    {
      "cell_type": "code",
      "source": [
        "# Diagramme radar pour comparaison visuelle\n",
        "fig = plt.figure(figsize=(10, 10))\n",
        "ax = fig.add_subplot(111, polar=True)\n",
        "\n",
        "# Catégories pour le radar\n",
        "categories = ['Fonctionnalité', 'Robustesse', 'Capacité', 'Performance', 'Sécurité']\n",
        "N = len(categories)\n",
        "\n",
        "# Scores normalisés (0-10)\n",
        "e_ad_values = [2, 2, 3, 2, 1]\n",
        "cihlhf_values = [10, 8, 6, 10, 8]\n",
        "cih_qr_values = [10, 7, 8, 6, 8]\n",
        "\n",
        "# Fermer le diagramme en reliant le dernier point au premier\n",
        "e_ad_values += e_ad_values[:1]\n",
        "cihlhf_values += cihlhf_values[:1]\n",
        "cih_qr_values += cih_qr_values[:1]\n",
        "\n",
        "# Calcul des angles\n",
        "angles = [n / float(N) * 2 * np.pi for n in range(N)]\n",
        "angles += angles[:1]\n",
        "\n",
        "# Dessin du radar\n",
        "ax.plot(angles, e_ad_values, 'o-', linewidth=2, label='E-AD', color='red')\n",
        "ax.fill(angles, e_ad_values, alpha=0.1, color='red')\n",
        "ax.plot(angles, cihlhf_values, 'o-', linewidth=2, label='CIHLHF', color='blue')\n",
        "ax.fill(angles, cihlhf_values, alpha=0.1, color='blue')\n",
        "ax.plot(angles, cih_qr_values, 'o-', linewidth=2, label='CIH-QR', color='green')\n",
        "ax.fill(angles, cih_qr_values, alpha=0.1, color='green')\n",
        "\n",
        "# Ajout des labels\n",
        "ax.set_thetagrids(np.degrees(angles[:-1]), categories)\n",
        "ax.set_ylim(0, 10)\n",
        "ax.set_title('Diagramme Radar des Performances', size=14, y=1.1)\n",
        "ax.legend(loc='upper right', bbox_to_anchor=(1.3, 1.1))\n",
        "plt.savefig('radar_steganographie.png', dpi=300, bbox_inches='tight')\n",
        "plt.show()"
      ],
      "metadata": {
        "id": "Uo4PZtG_rqmF"
      },
      "execution_count": null,
      "outputs": []
    }
  ]
}